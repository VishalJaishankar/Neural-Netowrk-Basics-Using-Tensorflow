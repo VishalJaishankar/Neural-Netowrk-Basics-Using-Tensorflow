{
 "cells": [
  {
   "cell_type": "code",
   "execution_count": null,
   "metadata": {},
   "outputs": [],
   "source": [
    "# classification Problem\n",
    "import pandas as pd\n",
    "import numpy as np"
   ]
  },
  {
   "cell_type": "code",
   "execution_count": 2,
   "metadata": {},
   "outputs": [
    {
     "data": {
      "text/plain": [
       "(768, 9)"
      ]
     },
     "execution_count": 2,
     "metadata": {},
     "output_type": "execute_result"
    }
   ],
   "source": [
    "diabetes = pd.read_csv('diabetes.csv')\n",
    "diabetes.shape"
   ]
  },
  {
   "cell_type": "code",
   "execution_count": 3,
   "metadata": {},
   "outputs": [
    {
     "data": {
      "text/html": [
       "<div>\n",
       "<style scoped>\n",
       "    .dataframe tbody tr th:only-of-type {\n",
       "        vertical-align: middle;\n",
       "    }\n",
       "\n",
       "    .dataframe tbody tr th {\n",
       "        vertical-align: top;\n",
       "    }\n",
       "\n",
       "    .dataframe thead th {\n",
       "        text-align: right;\n",
       "    }\n",
       "</style>\n",
       "<table border=\"1\" class=\"dataframe\">\n",
       "  <thead>\n",
       "    <tr style=\"text-align: right;\">\n",
       "      <th></th>\n",
       "      <th>Pregnancies</th>\n",
       "      <th>Glucose</th>\n",
       "      <th>BloodPressure</th>\n",
       "      <th>SkinThickness</th>\n",
       "      <th>Insulin</th>\n",
       "      <th>BMI</th>\n",
       "      <th>DiabetesPedigreeFunction</th>\n",
       "      <th>Age</th>\n",
       "      <th>Outcome</th>\n",
       "    </tr>\n",
       "  </thead>\n",
       "  <tbody>\n",
       "    <tr>\n",
       "      <th>0</th>\n",
       "      <td>6</td>\n",
       "      <td>148</td>\n",
       "      <td>72</td>\n",
       "      <td>35</td>\n",
       "      <td>0</td>\n",
       "      <td>33.6</td>\n",
       "      <td>0.627</td>\n",
       "      <td>50</td>\n",
       "      <td>1</td>\n",
       "    </tr>\n",
       "    <tr>\n",
       "      <th>1</th>\n",
       "      <td>1</td>\n",
       "      <td>85</td>\n",
       "      <td>66</td>\n",
       "      <td>29</td>\n",
       "      <td>0</td>\n",
       "      <td>26.6</td>\n",
       "      <td>0.351</td>\n",
       "      <td>31</td>\n",
       "      <td>0</td>\n",
       "    </tr>\n",
       "    <tr>\n",
       "      <th>2</th>\n",
       "      <td>8</td>\n",
       "      <td>183</td>\n",
       "      <td>64</td>\n",
       "      <td>0</td>\n",
       "      <td>0</td>\n",
       "      <td>23.3</td>\n",
       "      <td>0.672</td>\n",
       "      <td>32</td>\n",
       "      <td>1</td>\n",
       "    </tr>\n",
       "    <tr>\n",
       "      <th>3</th>\n",
       "      <td>1</td>\n",
       "      <td>89</td>\n",
       "      <td>66</td>\n",
       "      <td>23</td>\n",
       "      <td>94</td>\n",
       "      <td>28.1</td>\n",
       "      <td>0.167</td>\n",
       "      <td>21</td>\n",
       "      <td>0</td>\n",
       "    </tr>\n",
       "    <tr>\n",
       "      <th>4</th>\n",
       "      <td>0</td>\n",
       "      <td>137</td>\n",
       "      <td>40</td>\n",
       "      <td>35</td>\n",
       "      <td>168</td>\n",
       "      <td>43.1</td>\n",
       "      <td>2.288</td>\n",
       "      <td>33</td>\n",
       "      <td>1</td>\n",
       "    </tr>\n",
       "  </tbody>\n",
       "</table>\n",
       "</div>"
      ],
      "text/plain": [
       "   Pregnancies  Glucose  BloodPressure  SkinThickness  Insulin   BMI  \\\n",
       "0            6      148             72             35        0  33.6   \n",
       "1            1       85             66             29        0  26.6   \n",
       "2            8      183             64              0        0  23.3   \n",
       "3            1       89             66             23       94  28.1   \n",
       "4            0      137             40             35      168  43.1   \n",
       "\n",
       "   DiabetesPedigreeFunction  Age  Outcome  \n",
       "0                     0.627   50        1  \n",
       "1                     0.351   31        0  \n",
       "2                     0.672   32        1  \n",
       "3                     0.167   21        0  \n",
       "4                     2.288   33        1  "
      ]
     },
     "execution_count": 3,
     "metadata": {},
     "output_type": "execute_result"
    }
   ],
   "source": [
    "diabetes.head()"
   ]
  },
  {
   "cell_type": "code",
   "execution_count": 4,
   "metadata": {},
   "outputs": [
    {
     "data": {
      "text/plain": [
       "Index(['Pregnancies', 'Glucose', 'BloodPressure', 'SkinThickness', 'Insulin',\n",
       "       'BMI', 'DiabetesPedigreeFunction', 'Age', 'Outcome'],\n",
       "      dtype='object')"
      ]
     },
     "execution_count": 4,
     "metadata": {},
     "output_type": "execute_result"
    }
   ],
   "source": [
    "diabetes.columns"
   ]
  },
  {
   "cell_type": "code",
   "execution_count": 5,
   "metadata": {},
   "outputs": [],
   "source": [
    "# choose columns to normalize\n",
    "cols_to_norm = ['Pregnancies', 'Glucose', 'BloodPressure', 'SkinThickness', 'Insulin',\n",
    "       'BMI', 'DiabetesPedigreeFunction']"
   ]
  },
  {
   "cell_type": "code",
   "execution_count": 6,
   "metadata": {},
   "outputs": [],
   "source": [
    "# this function apply is used for normalization \n",
    "diabetes[cols_to_norm] = diabetes[cols_to_norm].apply(lambda x: (x-x.min()) / (x.max()-x.min() ))"
   ]
  },
  {
   "cell_type": "code",
   "execution_count": 7,
   "metadata": {},
   "outputs": [
    {
     "data": {
      "text/html": [
       "<div>\n",
       "<style scoped>\n",
       "    .dataframe tbody tr th:only-of-type {\n",
       "        vertical-align: middle;\n",
       "    }\n",
       "\n",
       "    .dataframe tbody tr th {\n",
       "        vertical-align: top;\n",
       "    }\n",
       "\n",
       "    .dataframe thead th {\n",
       "        text-align: right;\n",
       "    }\n",
       "</style>\n",
       "<table border=\"1\" class=\"dataframe\">\n",
       "  <thead>\n",
       "    <tr style=\"text-align: right;\">\n",
       "      <th></th>\n",
       "      <th>Pregnancies</th>\n",
       "      <th>Glucose</th>\n",
       "      <th>BloodPressure</th>\n",
       "      <th>SkinThickness</th>\n",
       "      <th>Insulin</th>\n",
       "      <th>BMI</th>\n",
       "      <th>DiabetesPedigreeFunction</th>\n",
       "      <th>Age</th>\n",
       "      <th>Outcome</th>\n",
       "    </tr>\n",
       "  </thead>\n",
       "  <tbody>\n",
       "    <tr>\n",
       "      <th>0</th>\n",
       "      <td>0.352941</td>\n",
       "      <td>0.743719</td>\n",
       "      <td>0.590164</td>\n",
       "      <td>0.353535</td>\n",
       "      <td>0.000000</td>\n",
       "      <td>0.500745</td>\n",
       "      <td>0.234415</td>\n",
       "      <td>50</td>\n",
       "      <td>1</td>\n",
       "    </tr>\n",
       "    <tr>\n",
       "      <th>1</th>\n",
       "      <td>0.058824</td>\n",
       "      <td>0.427136</td>\n",
       "      <td>0.540984</td>\n",
       "      <td>0.292929</td>\n",
       "      <td>0.000000</td>\n",
       "      <td>0.396423</td>\n",
       "      <td>0.116567</td>\n",
       "      <td>31</td>\n",
       "      <td>0</td>\n",
       "    </tr>\n",
       "    <tr>\n",
       "      <th>2</th>\n",
       "      <td>0.470588</td>\n",
       "      <td>0.919598</td>\n",
       "      <td>0.524590</td>\n",
       "      <td>0.000000</td>\n",
       "      <td>0.000000</td>\n",
       "      <td>0.347243</td>\n",
       "      <td>0.253629</td>\n",
       "      <td>32</td>\n",
       "      <td>1</td>\n",
       "    </tr>\n",
       "    <tr>\n",
       "      <th>3</th>\n",
       "      <td>0.058824</td>\n",
       "      <td>0.447236</td>\n",
       "      <td>0.540984</td>\n",
       "      <td>0.232323</td>\n",
       "      <td>0.111111</td>\n",
       "      <td>0.418778</td>\n",
       "      <td>0.038002</td>\n",
       "      <td>21</td>\n",
       "      <td>0</td>\n",
       "    </tr>\n",
       "    <tr>\n",
       "      <th>4</th>\n",
       "      <td>0.000000</td>\n",
       "      <td>0.688442</td>\n",
       "      <td>0.327869</td>\n",
       "      <td>0.353535</td>\n",
       "      <td>0.198582</td>\n",
       "      <td>0.642325</td>\n",
       "      <td>0.943638</td>\n",
       "      <td>33</td>\n",
       "      <td>1</td>\n",
       "    </tr>\n",
       "  </tbody>\n",
       "</table>\n",
       "</div>"
      ],
      "text/plain": [
       "   Pregnancies   Glucose  BloodPressure  SkinThickness   Insulin       BMI  \\\n",
       "0     0.352941  0.743719       0.590164       0.353535  0.000000  0.500745   \n",
       "1     0.058824  0.427136       0.540984       0.292929  0.000000  0.396423   \n",
       "2     0.470588  0.919598       0.524590       0.000000  0.000000  0.347243   \n",
       "3     0.058824  0.447236       0.540984       0.232323  0.111111  0.418778   \n",
       "4     0.000000  0.688442       0.327869       0.353535  0.198582  0.642325   \n",
       "\n",
       "   DiabetesPedigreeFunction  Age  Outcome  \n",
       "0                  0.234415   50        1  \n",
       "1                  0.116567   31        0  \n",
       "2                  0.253629   32        1  \n",
       "3                  0.038002   21        0  \n",
       "4                  0.943638   33        1  "
      ]
     },
     "execution_count": 7,
     "metadata": {},
     "output_type": "execute_result"
    }
   ],
   "source": [
    "diabetes.head()"
   ]
  },
  {
   "cell_type": "code",
   "execution_count": 8,
   "metadata": {},
   "outputs": [],
   "source": [
    "# create a feature colums"
   ]
  },
  {
   "cell_type": "code",
   "execution_count": 9,
   "metadata": {},
   "outputs": [],
   "source": [
    "import tensorflow as tf"
   ]
  },
  {
   "cell_type": "code",
   "execution_count": 10,
   "metadata": {},
   "outputs": [
    {
     "data": {
      "text/plain": [
       "Index(['Pregnancies', 'Glucose', 'BloodPressure', 'SkinThickness', 'Insulin',\n",
       "       'BMI', 'DiabetesPedigreeFunction', 'Age', 'Outcome'],\n",
       "      dtype='object')"
      ]
     },
     "execution_count": 10,
     "metadata": {},
     "output_type": "execute_result"
    }
   ],
   "source": [
    "diabetes.columns"
   ]
  },
  {
   "cell_type": "code",
   "execution_count": 11,
   "metadata": {},
   "outputs": [],
   "source": [
    "# create a new feature \n",
    "preg = tf.feature_column.numeric_column('Pregnancies')\n",
    "glu = tf.feature_column.numeric_column('Glucose')\n",
    "press = tf.feature_column.numeric_column('BloodPressure')\n",
    "skin = tf.feature_column.numeric_column('SkinThickness')\n",
    "insulin = tf.feature_column.numeric_column('Insulin')\n",
    "bmi = tf.feature_column.numeric_column('BMI')\n",
    "diabetes_pedigree = tf.feature_column.numeric_column('DiabetesPedigreeFunction')\n",
    "age = tf.feature_column.numeric_column('Age')"
   ]
  },
  {
   "cell_type": "code",
   "execution_count": 12,
   "metadata": {},
   "outputs": [],
   "source": [
    "# dealing with noncontinuous values\n",
    "#converting continuous column into catagorical column\n",
    "#feature engineering"
   ]
  },
  {
   "cell_type": "code",
   "execution_count": 13,
   "metadata": {},
   "outputs": [],
   "source": [
    "import matplotlib.pyplot as plt\n",
    "%matplotlib inline"
   ]
  },
  {
   "cell_type": "code",
   "execution_count": 14,
   "metadata": {},
   "outputs": [
    {
     "data": {
      "text/plain": [
       "<matplotlib.axes._subplots.AxesSubplot at 0x2c7e77c0ac8>"
      ]
     },
     "execution_count": 14,
     "metadata": {},
     "output_type": "execute_result"
    },
    {
     "data": {
      "image/png": "[encoded data removed]",
      "text/plain": [
       "<Figure size 432x288 with 1 Axes>"
      ]
     },
     "metadata": {
      "needs_background": "light"
     },
     "output_type": "display_data"
    }
   ],
   "source": [
    "diabetes['Age'].hist(bins=20)"
   ]
  },
  {
   "cell_type": "code",
   "execution_count": 15,
   "metadata": {},
   "outputs": [],
   "source": [
    "#to bucket a continuous value\n",
    "age_bucket = tf.feature_column.bucketized_column(age,boundaries=[20,30,40,50,60,70,80])"
   ]
  },
  {
   "cell_type": "code",
   "execution_count": 16,
   "metadata": {},
   "outputs": [],
   "source": [
    "#now declare the feature columns as defined before by tf\n",
    "feat_cols = [preg,glu,press,skin,insulin,bmi,diabetes_pedigree,age_bucket]"
   ]
  },
  {
   "cell_type": "markdown",
   "metadata": {},
   "source": [
    "#### Now perform train test split\n"
   ]
  },
  {
   "cell_type": "code",
   "execution_count": 17,
   "metadata": {},
   "outputs": [],
   "source": [
    "# This removes the result column\n",
    "x_data = diabetes.drop('Outcome',axis=1)"
   ]
  },
  {
   "cell_type": "code",
   "execution_count": 18,
   "metadata": {},
   "outputs": [
    {
     "data": {
      "text/html": [
       "<div>\n",
       "<style scoped>\n",
       "    .dataframe tbody tr th:only-of-type {\n",
       "        vertical-align: middle;\n",
       "    }\n",
       "\n",
       "    .dataframe tbody tr th {\n",
       "        vertical-align: top;\n",
       "    }\n",
       "\n",
       "    .dataframe thead th {\n",
       "        text-align: right;\n",
       "    }\n",
       "</style>\n",
       "<table border=\"1\" class=\"dataframe\">\n",
       "  <thead>\n",
       "    <tr style=\"text-align: right;\">\n",
       "      <th></th>\n",
       "      <th>Pregnancies</th>\n",
       "      <th>Glucose</th>\n",
       "      <th>BloodPressure</th>\n",
       "      <th>SkinThickness</th>\n",
       "      <th>Insulin</th>\n",
       "      <th>BMI</th>\n",
       "      <th>DiabetesPedigreeFunction</th>\n",
       "      <th>Age</th>\n",
       "    </tr>\n",
       "  </thead>\n",
       "  <tbody>\n",
       "    <tr>\n",
       "      <th>0</th>\n",
       "      <td>0.352941</td>\n",
       "      <td>0.743719</td>\n",
       "      <td>0.590164</td>\n",
       "      <td>0.353535</td>\n",
       "      <td>0.000000</td>\n",
       "      <td>0.500745</td>\n",
       "      <td>0.234415</td>\n",
       "      <td>50</td>\n",
       "    </tr>\n",
       "    <tr>\n",
       "      <th>1</th>\n",
       "      <td>0.058824</td>\n",
       "      <td>0.427136</td>\n",
       "      <td>0.540984</td>\n",
       "      <td>0.292929</td>\n",
       "      <td>0.000000</td>\n",
       "      <td>0.396423</td>\n",
       "      <td>0.116567</td>\n",
       "      <td>31</td>\n",
       "    </tr>\n",
       "    <tr>\n",
       "      <th>2</th>\n",
       "      <td>0.470588</td>\n",
       "      <td>0.919598</td>\n",
       "      <td>0.524590</td>\n",
       "      <td>0.000000</td>\n",
       "      <td>0.000000</td>\n",
       "      <td>0.347243</td>\n",
       "      <td>0.253629</td>\n",
       "      <td>32</td>\n",
       "    </tr>\n",
       "    <tr>\n",
       "      <th>3</th>\n",
       "      <td>0.058824</td>\n",
       "      <td>0.447236</td>\n",
       "      <td>0.540984</td>\n",
       "      <td>0.232323</td>\n",
       "      <td>0.111111</td>\n",
       "      <td>0.418778</td>\n",
       "      <td>0.038002</td>\n",
       "      <td>21</td>\n",
       "    </tr>\n",
       "    <tr>\n",
       "      <th>4</th>\n",
       "      <td>0.000000</td>\n",
       "      <td>0.688442</td>\n",
       "      <td>0.327869</td>\n",
       "      <td>0.353535</td>\n",
       "      <td>0.198582</td>\n",
       "      <td>0.642325</td>\n",
       "      <td>0.943638</td>\n",
       "      <td>33</td>\n",
       "    </tr>\n",
       "  </tbody>\n",
       "</table>\n",
       "</div>"
      ],
      "text/plain": [
       "   Pregnancies   Glucose  BloodPressure  SkinThickness   Insulin       BMI  \\\n",
       "0     0.352941  0.743719       0.590164       0.353535  0.000000  0.500745   \n",
       "1     0.058824  0.427136       0.540984       0.292929  0.000000  0.396423   \n",
       "2     0.470588  0.919598       0.524590       0.000000  0.000000  0.347243   \n",
       "3     0.058824  0.447236       0.540984       0.232323  0.111111  0.418778   \n",
       "4     0.000000  0.688442       0.327869       0.353535  0.198582  0.642325   \n",
       "\n",
       "   DiabetesPedigreeFunction  Age  \n",
       "0                  0.234415   50  \n",
       "1                  0.116567   31  \n",
       "2                  0.253629   32  \n",
       "3                  0.038002   21  \n",
       "4                  0.943638   33  "
      ]
     },
     "execution_count": 18,
     "metadata": {},
     "output_type": "execute_result"
    }
   ],
   "source": [
    "x_data.head()"
   ]
  },
  {
   "cell_type": "code",
   "execution_count": 19,
   "metadata": {},
   "outputs": [],
   "source": [
    "label = diabetes['Outcome']"
   ]
  },
  {
   "cell_type": "code",
   "execution_count": 20,
   "metadata": {},
   "outputs": [
    {
     "data": {
      "text/plain": [
       "0    1\n",
       "1    0\n",
       "2    1\n",
       "3    0\n",
       "4    1\n",
       "Name: Outcome, dtype: int64"
      ]
     },
     "execution_count": 20,
     "metadata": {},
     "output_type": "execute_result"
    }
   ],
   "source": [
    "label.head()"
   ]
  },
  {
   "cell_type": "code",
   "execution_count": 21,
   "metadata": {},
   "outputs": [],
   "source": [
    "# now Perform the train test split"
   ]
  },
  {
   "cell_type": "code",
   "execution_count": 22,
   "metadata": {},
   "outputs": [],
   "source": [
    "from sklearn.model_selection import train_test_split"
   ]
  },
  {
   "cell_type": "code",
   "execution_count": 23,
   "metadata": {},
   "outputs": [],
   "source": [
    "X_train, X_test, y_train, y_test = train_test_split(x_data,label,test_size=0.3,random_state=101)"
   ]
  },
  {
   "cell_type": "markdown",
   "metadata": {},
   "source": [
    "### Create the input Funtion"
   ]
  },
  {
   "cell_type": "code",
   "execution_count": 24,
   "metadata": {},
   "outputs": [],
   "source": [
    "input_func = tf.estimator.inputs.pandas_input_fn(x=X_train,y=y_train,batch_size=10,num_epochs=1000,shuffle=True)"
   ]
  },
  {
   "cell_type": "code",
   "execution_count": 25,
   "metadata": {},
   "outputs": [
    {
     "name": "stdout",
     "output_type": "stream",
     "text": [
      "INFO:tensorflow:Using default config.\n",
      "WARNING:tensorflow:Using temporary folder as model directory: C:\\Users\\jaish\\AppData\\Local\\Temp\\tmpo7197ydv\n",
      "INFO:tensorflow:Using config: {'_model_dir': 'C:\\\\Users\\\\jaish\\\\AppData\\\\Local\\\\Temp\\\\tmpo7197ydv', '_tf_random_seed': None, '_save_summary_steps': 100, '_save_checkpoints_steps': None, '_save_checkpoints_secs': 600, '_session_config': allow_soft_placement: true\n",
      "graph_options {\n",
      "  rewrite_options {\n",
      "    meta_optimizer_iterations: ONE\n",
      "  }\n",
      "}\n",
      ", '_keep_checkpoint_max': 5, '_keep_checkpoint_every_n_hours': 10000, '_log_step_count_steps': 100, '_train_distribute': None, '_device_fn': None, '_protocol': None, '_eval_distribute': None, '_experimental_distribute': None, '_service': None, '_cluster_spec': <tensorflow.python.training.server_lib.ClusterSpec object at 0x000002C7E938C438>, '_task_type': 'worker', '_task_id': 0, '_global_id_in_cluster': 0, '_master': '', '_evaluation_master': '', '_is_chief': True, '_num_ps_replicas': 0, '_num_worker_replicas': 1}\n"
     ]
    }
   ],
   "source": [
    "model = tf.estimator.LinearClassifier(feature_columns=feat_cols,n_classes=2)"
   ]
  },
  {
   "cell_type": "code",
   "execution_count": 26,
   "metadata": {},
   "outputs": [],
   "source": [
    "#now train the model"
   ]
  },
  {
   "cell_type": "code",
   "execution_count": 27,
   "metadata": {},
   "outputs": [
    {
     "name": "stdout",
     "output_type": "stream",
     "text": [
      "WARNING:tensorflow:From C:\\Users\\jaish\\Anaconda3\\envs\\RNN\\lib\\site-packages\\tensorflow\\python\\estimator\\inputs\\queues\\feeding_queue_runner.py:62: QueueRunner.__init__ (from tensorflow.python.training.queue_runner_impl) is deprecated and will be removed in a future version.\n",
      "Instructions for updating:\n",
      "To construct input pipelines, use the `tf.data` module.\n",
      "WARNING:tensorflow:From C:\\Users\\jaish\\Anaconda3\\envs\\RNN\\lib\\site-packages\\tensorflow\\python\\estimator\\inputs\\queues\\feeding_functions.py:500: add_queue_runner (from tensorflow.python.training.queue_runner_impl) is deprecated and will be removed in a future version.\n",
      "Instructions for updating:\n",
      "To construct input pipelines, use the `tf.data` module.\n",
      "INFO:tensorflow:Calling model_fn.\n",
      "INFO:tensorflow:Done calling model_fn.\n",
      "INFO:tensorflow:Create CheckpointSaverHook.\n",
      "INFO:tensorflow:Graph was finalized.\n",
      "INFO:tensorflow:Running local_init_op.\n",
      "INFO:tensorflow:Done running local_init_op.\n",
      "WARNING:tensorflow:From C:\\Users\\jaish\\Anaconda3\\envs\\RNN\\lib\\site-packages\\tensorflow\\python\\training\\monitored_session.py:804: start_queue_runners (from tensorflow.python.training.queue_runner_impl) is deprecated and will be removed in a future version.\n",
      "Instructions for updating:\n",
      "To construct input pipelines, use the `tf.data` module.\n",
      "INFO:tensorflow:Saving checkpoints for 0 into C:\\Users\\jaish\\AppData\\Local\\Temp\\tmpo7197ydv\\model.ckpt.\n",
      "INFO:tensorflow:loss = 6.931472, step = 1\n",
      "INFO:tensorflow:global_step/sec: 402.686\n",
      "INFO:tensorflow:loss = 5.670237, step = 101 (0.251 sec)\n",
      "INFO:tensorflow:global_step/sec: 706.118\n",
      "INFO:tensorflow:loss = 3.7278, step = 201 (0.142 sec)\n",
      "INFO:tensorflow:global_step/sec: 642.652\n",
      "INFO:tensorflow:loss = 3.599722, step = 301 (0.155 sec)\n",
      "INFO:tensorflow:global_step/sec: 698.567\n",
      "INFO:tensorflow:loss = 5.1292515, step = 401 (0.143 sec)\n",
      "INFO:tensorflow:global_step/sec: 668.457\n",
      "INFO:tensorflow:loss = 4.0200396, step = 501 (0.151 sec)\n",
      "INFO:tensorflow:global_step/sec: 683.745\n",
      "INFO:tensorflow:loss = 3.3304768, step = 601 (0.147 sec)\n",
      "INFO:tensorflow:global_step/sec: 533.466\n",
      "INFO:tensorflow:loss = 3.5494587, step = 701 (0.187 sec)\n",
      "INFO:tensorflow:global_step/sec: 539.075\n",
      "INFO:tensorflow:loss = 2.9858851, step = 801 (0.183 sec)\n",
      "INFO:tensorflow:global_step/sec: 630.431\n",
      "INFO:tensorflow:loss = 5.3640733, step = 901 (0.159 sec)\n",
      "INFO:tensorflow:Saving checkpoints for 1000 into C:\\Users\\jaish\\AppData\\Local\\Temp\\tmpo7197ydv\\model.ckpt.\n",
      "INFO:tensorflow:Loss for final step: 6.151962.\n"
     ]
    },
    {
     "data": {
      "text/plain": [
       "<tensorflow.python.estimator.canned.linear.LinearClassifier at 0x2c7e77c04a8>"
      ]
     },
     "execution_count": 27,
     "metadata": {},
     "output_type": "execute_result"
    }
   ],
   "source": [
    "model.train(input_fn=input_func,steps=1000)"
   ]
  },
  {
   "cell_type": "code",
   "execution_count": 28,
   "metadata": {},
   "outputs": [],
   "source": [
    "eval_input_func = tf.estimator.inputs.pandas_input_fn(x=X_test,y=y_test,batch_size=10,num_epochs=1,shuffle=False)"
   ]
  },
  {
   "cell_type": "code",
   "execution_count": 29,
   "metadata": {},
   "outputs": [
    {
     "name": "stdout",
     "output_type": "stream",
     "text": [
      "INFO:tensorflow:Calling model_fn.\n",
      "WARNING:tensorflow:Trapezoidal rule is known to produce incorrect PR-AUCs; please switch to \"careful_interpolation\" instead.\n",
      "WARNING:tensorflow:Trapezoidal rule is known to produce incorrect PR-AUCs; please switch to \"careful_interpolation\" instead.\n",
      "INFO:tensorflow:Done calling model_fn.\n",
      "INFO:tensorflow:Starting evaluation at 2018-11-03-12:04:26\n",
      "INFO:tensorflow:Graph was finalized.\n",
      "INFO:tensorflow:Restoring parameters from C:\\Users\\jaish\\AppData\\Local\\Temp\\tmpo7197ydv\\model.ckpt-1000\n",
      "INFO:tensorflow:Running local_init_op.\n",
      "INFO:tensorflow:Done running local_init_op.\n",
      "INFO:tensorflow:Finished evaluation at 2018-11-03-12:04:27\n",
      "INFO:tensorflow:Saving dict for global step 1000: accuracy = 0.7316017, accuracy_baseline = 0.64935064, auc = 0.7957202, auc_precision_recall = 0.6430727, average_loss = 0.5264889, global_step = 1000, label/mean = 0.35064936, loss = 5.067456, precision = 0.64179105, prediction/mean = 0.35748172, recall = 0.5308642\n",
      "INFO:tensorflow:Saving 'checkpoint_path' summary for global step 1000: C:\\Users\\jaish\\AppData\\Local\\Temp\\tmpo7197ydv\\model.ckpt-1000\n"
     ]
    }
   ],
   "source": [
    "results = model.evaluate(eval_input_func)"
   ]
  },
  {
   "cell_type": "code",
   "execution_count": 30,
   "metadata": {},
   "outputs": [
    {
     "data": {
      "text/plain": [
       "{'accuracy': 0.7316017,\n",
       " 'accuracy_baseline': 0.64935064,\n",
       " 'auc': 0.7957202,\n",
       " 'auc_precision_recall': 0.6430727,\n",
       " 'average_loss': 0.5264889,\n",
       " 'label/mean': 0.35064936,\n",
       " 'loss': 5.067456,\n",
       " 'precision': 0.64179105,\n",
       " 'prediction/mean': 0.35748172,\n",
       " 'recall': 0.5308642,\n",
       " 'global_step': 1000}"
      ]
     },
     "execution_count": 30,
     "metadata": {},
     "output_type": "execute_result"
    }
   ],
   "source": [
    "results"
   ]
  },
  {
   "cell_type": "markdown",
   "metadata": {},
   "source": [
    "#### get some predictions\n"
   ]
  },
  {
   "cell_type": "code",
   "execution_count": 31,
   "metadata": {},
   "outputs": [],
   "source": [
    "pred_input_func = tf.estimator.inputs.pandas_input_fn(x=X_test,batch_size=10,num_epochs=1,shuffle=False)"
   ]
  },
  {
   "cell_type": "code",
   "execution_count": 32,
   "metadata": {},
   "outputs": [],
   "source": [
    "my_pred = model.predict(pred_input_func)"
   ]
  },
  {
   "cell_type": "code",
   "execution_count": 33,
   "metadata": {},
   "outputs": [
    {
     "name": "stdout",
     "output_type": "stream",
     "text": [
      "INFO:tensorflow:Calling model_fn.\n",
      "INFO:tensorflow:Done calling model_fn.\n",
      "INFO:tensorflow:Graph was finalized.\n",
      "INFO:tensorflow:Restoring parameters from C:\\Users\\jaish\\AppData\\Local\\Temp\\tmpo7197ydv\\model.ckpt-1000\n",
      "INFO:tensorflow:Running local_init_op.\n",
      "INFO:tensorflow:Done running local_init_op.\n",
      "{'logits': array([-0.05962121], dtype=float32), 'logistic': array([0.48509914], dtype=float32), 'probabilities': array([0.5149009 , 0.48509914], dtype=float32), 'class_ids': array([0], dtype=int64), 'classes': array([b'0'], dtype=object)}\n",
      "{'logits': array([0.52203274], dtype=float32), 'logistic': array([0.62762296], dtype=float32), 'probabilities': array([0.37237704, 0.62762296], dtype=float32), 'class_ids': array([1], dtype=int64), 'classes': array([b'1'], dtype=object)}\n",
      "{'logits': array([-0.48980713], dtype=float32), 'logistic': array([0.37993902], dtype=float32), 'probabilities': array([0.620061, 0.379939], dtype=float32), 'class_ids': array([0], dtype=int64), 'classes': array([b'0'], dtype=object)}\n",
      "{'logits': array([-0.9156078], dtype=float32), 'logistic': array([0.28585365], dtype=float32), 'probabilities': array([0.7141463 , 0.28585368], dtype=float32), 'class_ids': array([0], dtype=int64), 'classes': array([b'0'], dtype=object)}\n",
      "{'logits': array([-1.9480238], dtype=float32), 'logistic': array([0.12476901], dtype=float32), 'probabilities': array([0.875231, 0.124769], dtype=float32), 'class_ids': array([0], dtype=int64), 'classes': array([b'0'], dtype=object)}\n",
      "{'logits': array([0.5847037], dtype=float32), 'logistic': array([0.642149], dtype=float32), 'probabilities': array([0.35785097, 0.642149  ], dtype=float32), 'class_ids': array([1], dtype=int64), 'classes': array([b'1'], dtype=object)}\n",
      "{'logits': array([0.41369832], dtype=float32), 'logistic': array([0.6019743], dtype=float32), 'probabilities': array([0.39802566, 0.6019743 ], dtype=float32), 'class_ids': array([1], dtype=int64), 'classes': array([b'1'], dtype=object)}\n",
      "{'logits': array([-0.7271987], dtype=float32), 'logistic': array([0.32580975], dtype=float32), 'probabilities': array([0.6741902 , 0.32580975], dtype=float32), 'class_ids': array([0], dtype=int64), 'classes': array([b'0'], dtype=object)}\n",
      "{'logits': array([-1.2947828], dtype=float32), 'logistic': array([0.2150444], dtype=float32), 'probabilities': array([0.7849556 , 0.21504438], dtype=float32), 'class_ids': array([0], dtype=int64), 'classes': array([b'0'], dtype=object)}\n",
      "{'logits': array([-1.26235], dtype=float32), 'logistic': array([0.22056963], dtype=float32), 'probabilities': array([0.7794304 , 0.22056963], dtype=float32), 'class_ids': array([0], dtype=int64), 'classes': array([b'0'], dtype=object)}\n",
      "{'logits': array([-1.8164965], dtype=float32), 'logistic': array([0.13985479], dtype=float32), 'probabilities': array([0.86014515, 0.13985479], dtype=float32), 'class_ids': array([0], dtype=int64), 'classes': array([b'0'], dtype=object)}\n",
      "{'logits': array([-1.8134302], dtype=float32), 'logistic': array([0.14022407], dtype=float32), 'probabilities': array([0.85977596, 0.14022407], dtype=float32), 'class_ids': array([0], dtype=int64), 'classes': array([b'0'], dtype=object)}\n",
      "{'logits': array([-0.83060414], dtype=float32), 'logistic': array([0.30351734], dtype=float32), 'probabilities': array([0.6964826 , 0.30351734], dtype=float32), 'class_ids': array([0], dtype=int64), 'classes': array([b'0'], dtype=object)}\n",
      "{'logits': array([0.20140016], dtype=float32), 'logistic': array([0.55018055], dtype=float32), 'probabilities': array([0.4498195 , 0.55018055], dtype=float32), 'class_ids': array([1], dtype=int64), 'classes': array([b'1'], dtype=object)}\n",
      "{'logits': array([-1.5246483], dtype=float32), 'logistic': array([0.17877805], dtype=float32), 'probabilities': array([0.82122195, 0.17877805], dtype=float32), 'class_ids': array([0], dtype=int64), 'classes': array([b'0'], dtype=object)}\n",
      "{'logits': array([-0.6989661], dtype=float32), 'logistic': array([0.3320415], dtype=float32), 'probabilities': array([0.66795856, 0.33204153], dtype=float32), 'class_ids': array([0], dtype=int64), 'classes': array([b'0'], dtype=object)}\n",
      "{'logits': array([-0.58043134], dtype=float32), 'logistic': array([0.35883334], dtype=float32), 'probabilities': array([0.6411667 , 0.35883337], dtype=float32), 'class_ids': array([0], dtype=int64), 'classes': array([b'0'], dtype=object)}\n",
      "{'logits': array([-1.8770247], dtype=float32), 'logistic': array([0.132731], dtype=float32), 'probabilities': array([0.867269, 0.132731], dtype=float32), 'class_ids': array([0], dtype=int64), 'classes': array([b'0'], dtype=object)}\n",
      "{'logits': array([-0.51596886], dtype=float32), 'logistic': array([0.37379533], dtype=float32), 'probabilities': array([0.62620467, 0.37379533], dtype=float32), 'class_ids': array([0], dtype=int64), 'classes': array([b'0'], dtype=object)}\n",
      "{'logits': array([-1.8984699], dtype=float32), 'logistic': array([0.13028175], dtype=float32), 'probabilities': array([0.86971825, 0.13028175], dtype=float32), 'class_ids': array([0], dtype=int64), 'classes': array([b'0'], dtype=object)}\n",
      "{'logits': array([-1.3538995], dtype=float32), 'logistic': array([0.20523359], dtype=float32), 'probabilities': array([0.79476637, 0.20523359], dtype=float32), 'class_ids': array([0], dtype=int64), 'classes': array([b'0'], dtype=object)}\n",
      "{'logits': array([-0.9864097], dtype=float32), 'logistic': array([0.2716218], dtype=float32), 'probabilities': array([0.72837824, 0.27162182], dtype=float32), 'class_ids': array([0], dtype=int64), 'classes': array([b'0'], dtype=object)}\n",
      "{'logits': array([0.475626], dtype=float32), 'logistic': array([0.6167145], dtype=float32), 'probabilities': array([0.38328552, 0.6167145 ], dtype=float32), 'class_ids': array([1], dtype=int64), 'classes': array([b'1'], dtype=object)}\n",
      "{'logits': array([-1.4934843], dtype=float32), 'logistic': array([0.18339933], dtype=float32), 'probabilities': array([0.8166007 , 0.18339933], dtype=float32), 'class_ids': array([0], dtype=int64), 'classes': array([b'0'], dtype=object)}\n",
      "{'logits': array([-1.5024179], dtype=float32), 'logistic': array([0.18206517], dtype=float32), 'probabilities': array([0.8179348 , 0.18206517], dtype=float32), 'class_ids': array([0], dtype=int64), 'classes': array([b'0'], dtype=object)}\n",
      "{'logits': array([1.2181544], dtype=float32), 'logistic': array([0.7717386], dtype=float32), 'probabilities': array([0.2282614, 0.7717386], dtype=float32), 'class_ids': array([1], dtype=int64), 'classes': array([b'1'], dtype=object)}\n",
      "{'logits': array([-1.5922781], dtype=float32), 'logistic': array([0.16906361], dtype=float32), 'probabilities': array([0.83093643, 0.16906363], dtype=float32), 'class_ids': array([0], dtype=int64), 'classes': array([b'0'], dtype=object)}\n",
      "{'logits': array([-0.82175064], dtype=float32), 'logistic': array([0.30539218], dtype=float32), 'probabilities': array([0.69460785, 0.30539218], dtype=float32), 'class_ids': array([0], dtype=int64), 'classes': array([b'0'], dtype=object)}\n",
      "{'logits': array([-2.070243], dtype=float32), 'logistic': array([0.11202288], dtype=float32), 'probabilities': array([0.8879771 , 0.11202288], dtype=float32), 'class_ids': array([0], dtype=int64), 'classes': array([b'0'], dtype=object)}\n",
      "{'logits': array([0.26300204], dtype=float32), 'logistic': array([0.5653741], dtype=float32), 'probabilities': array([0.4346259 , 0.56537414], dtype=float32), 'class_ids': array([1], dtype=int64), 'classes': array([b'1'], dtype=object)}\n",
      "{'logits': array([2.4517553], dtype=float32), 'logistic': array([0.9206897], dtype=float32), 'probabilities': array([0.07931028, 0.9206897 ], dtype=float32), 'class_ids': array([1], dtype=int64), 'classes': array([b'1'], dtype=object)}\n",
      "{'logits': array([-0.4990753], dtype=float32), 'logistic': array([0.37775803], dtype=float32), 'probabilities': array([0.622242, 0.377758], dtype=float32), 'class_ids': array([0], dtype=int64), 'classes': array([b'0'], dtype=object)}\n",
      "{'logits': array([-0.93578154], dtype=float32), 'logistic': array([0.28175324], dtype=float32), 'probabilities': array([0.71824676, 0.2817532 ], dtype=float32), 'class_ids': array([0], dtype=int64), 'classes': array([b'0'], dtype=object)}\n",
      "{'logits': array([0.25161242], dtype=float32), 'logistic': array([0.5625733], dtype=float32), 'probabilities': array([0.43742666, 0.5625733 ], dtype=float32), 'class_ids': array([1], dtype=int64), 'classes': array([b'1'], dtype=object)}\n",
      "{'logits': array([-1.1323736], dtype=float32), 'logistic': array([0.24372333], dtype=float32), 'probabilities': array([0.75627667, 0.24372332], dtype=float32), 'class_ids': array([0], dtype=int64), 'classes': array([b'0'], dtype=object)}\n",
      "{'logits': array([-0.41663474], dtype=float32), 'logistic': array([0.39732233], dtype=float32), 'probabilities': array([0.6026777 , 0.39732233], dtype=float32), 'class_ids': array([0], dtype=int64), 'classes': array([b'0'], dtype=object)}\n",
      "{'logits': array([-0.07034814], dtype=float32), 'logistic': array([0.4824202], dtype=float32), 'probabilities': array([0.5175798 , 0.48242024], dtype=float32), 'class_ids': array([0], dtype=int64), 'classes': array([b'0'], dtype=object)}\n",
      "{'logits': array([0.510502], dtype=float32), 'logistic': array([0.6249241], dtype=float32), 'probabilities': array([0.37507585, 0.6249241 ], dtype=float32), 'class_ids': array([1], dtype=int64), 'classes': array([b'1'], dtype=object)}\n",
      "{'logits': array([1.0632117], dtype=float32), 'logistic': array([0.74330384], dtype=float32), 'probabilities': array([0.2566962 , 0.74330384], dtype=float32), 'class_ids': array([1], dtype=int64), 'classes': array([b'1'], dtype=object)}\n",
      "{'logits': array([-0.75576544], dtype=float32), 'logistic': array([0.31956634], dtype=float32), 'probabilities': array([0.6804337 , 0.31956634], dtype=float32), 'class_ids': array([0], dtype=int64), 'classes': array([b'0'], dtype=object)}\n",
      "{'logits': array([-1.5640297], dtype=float32), 'logistic': array([0.17306916], dtype=float32), 'probabilities': array([0.8269308 , 0.17306918], dtype=float32), 'class_ids': array([0], dtype=int64), 'classes': array([b'0'], dtype=object)}\n",
      "{'logits': array([0.22015333], dtype=float32), 'logistic': array([0.5548171], dtype=float32), 'probabilities': array([0.44518286, 0.5548171 ], dtype=float32), 'class_ids': array([1], dtype=int64), 'classes': array([b'1'], dtype=object)}\n",
      "{'logits': array([-1.6378198], dtype=float32), 'logistic': array([0.16276194], dtype=float32), 'probabilities': array([0.8372381 , 0.16276194], dtype=float32), 'class_ids': array([0], dtype=int64), 'classes': array([b'0'], dtype=object)}\n",
      "{'logits': array([0.07042706], dtype=float32), 'logistic': array([0.51759946], dtype=float32), 'probabilities': array([0.4824005 , 0.51759946], dtype=float32), 'class_ids': array([1], dtype=int64), 'classes': array([b'1'], dtype=object)}\n",
      "{'logits': array([-1.7462554], dtype=float32), 'logistic': array([0.14852013], dtype=float32), 'probabilities': array([0.8514799 , 0.14852013], dtype=float32), 'class_ids': array([0], dtype=int64), 'classes': array([b'0'], dtype=object)}\n",
      "{'logits': array([-1.9846807], dtype=float32), 'logistic': array([0.12082075], dtype=float32), 'probabilities': array([0.87917924, 0.12082077], dtype=float32), 'class_ids': array([0], dtype=int64), 'classes': array([b'0'], dtype=object)}\n",
      "{'logits': array([0.2827009], dtype=float32), 'logistic': array([0.57020825], dtype=float32), 'probabilities': array([0.42979172, 0.57020825], dtype=float32), 'class_ids': array([1], dtype=int64), 'classes': array([b'1'], dtype=object)}\n",
      "{'logits': array([-1.6931145], dtype=float32), 'logistic': array([0.15536669], dtype=float32), 'probabilities': array([0.8446333 , 0.15536669], dtype=float32), 'class_ids': array([0], dtype=int64), 'classes': array([b'0'], dtype=object)}\n",
      "{'logits': array([-1.4321982], dtype=float32), 'logistic': array([0.19275641], dtype=float32), 'probabilities': array([0.8072436 , 0.19275641], dtype=float32), 'class_ids': array([0], dtype=int64), 'classes': array([b'0'], dtype=object)}\n",
      "{'logits': array([-1.7392585], dtype=float32), 'logistic': array([0.14940715], dtype=float32), 'probabilities': array([0.85059285, 0.14940715], dtype=float32), 'class_ids': array([0], dtype=int64), 'classes': array([b'0'], dtype=object)}\n",
      "{'logits': array([-1.6966512], dtype=float32), 'logistic': array([0.15490314], dtype=float32), 'probabilities': array([0.8450968 , 0.15490314], dtype=float32), 'class_ids': array([0], dtype=int64), 'classes': array([b'0'], dtype=object)}\n",
      "{'logits': array([-1.1531501], dtype=float32), 'logistic': array([0.23991418], dtype=float32), 'probabilities': array([0.7600858, 0.2399142], dtype=float32), 'class_ids': array([0], dtype=int64), 'classes': array([b'0'], dtype=object)}\n",
      "{'logits': array([-1.2316186], dtype=float32), 'logistic': array([0.22589825], dtype=float32), 'probabilities': array([0.7741018 , 0.22589827], dtype=float32), 'class_ids': array([0], dtype=int64), 'classes': array([b'0'], dtype=object)}\n",
      "{'logits': array([-0.54749036], dtype=float32), 'logistic': array([0.36644688], dtype=float32), 'probabilities': array([0.63355315, 0.36644685], dtype=float32), 'class_ids': array([0], dtype=int64), 'classes': array([b'0'], dtype=object)}\n",
      "{'logits': array([-1.918045], dtype=float32), 'logistic': array([0.12807973], dtype=float32), 'probabilities': array([0.8719203 , 0.12807974], dtype=float32), 'class_ids': array([0], dtype=int64), 'classes': array([b'0'], dtype=object)}\n",
      "{'logits': array([-1.4052023], dtype=float32), 'logistic': array([0.19699189], dtype=float32), 'probabilities': array([0.8030081 , 0.19699188], dtype=float32), 'class_ids': array([0], dtype=int64), 'classes': array([b'0'], dtype=object)}\n",
      "{'logits': array([-1.5084134], dtype=float32), 'logistic': array([0.18117404], dtype=float32), 'probabilities': array([0.81882596, 0.18117404], dtype=float32), 'class_ids': array([0], dtype=int64), 'classes': array([b'0'], dtype=object)}\n",
      "{'logits': array([-1.3480432], dtype=float32), 'logistic': array([0.20619045], dtype=float32), 'probabilities': array([0.7938096 , 0.20619048], dtype=float32), 'class_ids': array([0], dtype=int64), 'classes': array([b'0'], dtype=object)}\n",
      "{'logits': array([-0.06362832], dtype=float32), 'logistic': array([0.4840983], dtype=float32), 'probabilities': array([0.5159017 , 0.48409826], dtype=float32), 'class_ids': array([0], dtype=int64), 'classes': array([b'0'], dtype=object)}\n",
      "{'logits': array([-1.8082738], dtype=float32), 'logistic': array([0.14084688], dtype=float32), 'probabilities': array([0.85915315, 0.1408469 ], dtype=float32), 'class_ids': array([0], dtype=int64), 'classes': array([b'0'], dtype=object)}\n",
      "{'logits': array([-1.2824165], dtype=float32), 'logistic': array([0.21713917], dtype=float32), 'probabilities': array([0.7828608 , 0.21713917], dtype=float32), 'class_ids': array([0], dtype=int64), 'classes': array([b'0'], dtype=object)}\n",
      "{'logits': array([0.46140707], dtype=float32), 'logistic': array([0.61334795], dtype=float32), 'probabilities': array([0.3866521 , 0.61334795], dtype=float32), 'class_ids': array([1], dtype=int64), 'classes': array([b'1'], dtype=object)}\n",
      "{'logits': array([0.42776132], dtype=float32), 'logistic': array([0.60533893], dtype=float32), 'probabilities': array([0.39466104, 0.60533893], dtype=float32), 'class_ids': array([1], dtype=int64), 'classes': array([b'1'], dtype=object)}\n",
      "{'logits': array([-0.02627993], dtype=float32), 'logistic': array([0.4934304], dtype=float32), 'probabilities': array([0.50656956, 0.49343035], dtype=float32), 'class_ids': array([0], dtype=int64), 'classes': array([b'0'], dtype=object)}\n",
      "{'logits': array([-0.7454312], dtype=float32), 'logistic': array([0.32181764], dtype=float32), 'probabilities': array([0.67818236, 0.32181764], dtype=float32), 'class_ids': array([0], dtype=int64), 'classes': array([b'0'], dtype=object)}\n",
      "{'logits': array([-0.05741322], dtype=float32), 'logistic': array([0.4856506], dtype=float32), 'probabilities': array([0.51434934, 0.48565063], dtype=float32), 'class_ids': array([0], dtype=int64), 'classes': array([b'0'], dtype=object)}\n",
      "{'logits': array([-1.5073209], dtype=float32), 'logistic': array([0.18133618], dtype=float32), 'probabilities': array([0.8186638 , 0.18133616], dtype=float32), 'class_ids': array([0], dtype=int64), 'classes': array([b'0'], dtype=object)}\n",
      "{'logits': array([-1.4252126], dtype=float32), 'logistic': array([0.1938457], dtype=float32), 'probabilities': array([0.8061543, 0.1938457], dtype=float32), 'class_ids': array([0], dtype=int64), 'classes': array([b'0'], dtype=object)}\n",
      "{'logits': array([-1.7630707], dtype=float32), 'logistic': array([0.14640617], dtype=float32), 'probabilities': array([0.8535938 , 0.14640617], dtype=float32), 'class_ids': array([0], dtype=int64), 'classes': array([b'0'], dtype=object)}\n",
      "{'logits': array([-1.8881774], dtype=float32), 'logistic': array([0.13145243], dtype=float32), 'probabilities': array([0.86854756, 0.13145241], dtype=float32), 'class_ids': array([0], dtype=int64), 'classes': array([b'0'], dtype=object)}\n",
      "{'logits': array([0.4963609], dtype=float32), 'logistic': array([0.6216038], dtype=float32), 'probabilities': array([0.37839624, 0.6216038 ], dtype=float32), 'class_ids': array([1], dtype=int64), 'classes': array([b'1'], dtype=object)}\n",
      "{'logits': array([-1.1764938], dtype=float32), 'logistic': array([0.2356832], dtype=float32), 'probabilities': array([0.7643168, 0.2356832], dtype=float32), 'class_ids': array([0], dtype=int64), 'classes': array([b'0'], dtype=object)}\n",
      "{'logits': array([-0.37406874], dtype=float32), 'logistic': array([0.40755823], dtype=float32), 'probabilities': array([0.59244174, 0.40755823], dtype=float32), 'class_ids': array([0], dtype=int64), 'classes': array([b'0'], dtype=object)}\n",
      "{'logits': array([0.17261541], dtype=float32), 'logistic': array([0.543047], dtype=float32), 'probabilities': array([0.456953, 0.543047], dtype=float32), 'class_ids': array([1], dtype=int64), 'classes': array([b'1'], dtype=object)}\n",
      "{'logits': array([-0.8661132], dtype=float32), 'logistic': array([0.2960637], dtype=float32), 'probabilities': array([0.7039363, 0.2960637], dtype=float32), 'class_ids': array([0], dtype=int64), 'classes': array([b'0'], dtype=object)}\n",
      "{'logits': array([0.43549109], dtype=float32), 'logistic': array([0.6071841], dtype=float32), 'probabilities': array([0.3928159, 0.6071841], dtype=float32), 'class_ids': array([1], dtype=int64), 'classes': array([b'1'], dtype=object)}\n",
      "{'logits': array([-2.0240877], dtype=float32), 'logistic': array([0.11669698], dtype=float32), 'probabilities': array([0.88330305, 0.11669698], dtype=float32), 'class_ids': array([0], dtype=int64), 'classes': array([b'0'], dtype=object)}\n",
      "{'logits': array([0.52638793], dtype=float32), 'logistic': array([0.62864023], dtype=float32), 'probabilities': array([0.37135974, 0.62864023], dtype=float32), 'class_ids': array([1], dtype=int64), 'classes': array([b'1'], dtype=object)}\n",
      "{'logits': array([-1.9133569], dtype=float32), 'logistic': array([0.12860419], dtype=float32), 'probabilities': array([0.8713958 , 0.12860419], dtype=float32), 'class_ids': array([0], dtype=int64), 'classes': array([b'0'], dtype=object)}\n",
      "{'logits': array([0.24976265], dtype=float32), 'logistic': array([0.56211805], dtype=float32), 'probabilities': array([0.43788192, 0.5621181 ], dtype=float32), 'class_ids': array([1], dtype=int64), 'classes': array([b'1'], dtype=object)}\n",
      "{'logits': array([-0.7084371], dtype=float32), 'logistic': array([0.32994428], dtype=float32), 'probabilities': array([0.67005575, 0.32994428], dtype=float32), 'class_ids': array([0], dtype=int64), 'classes': array([b'0'], dtype=object)}\n",
      "{'logits': array([-1.6011609], dtype=float32), 'logistic': array([0.16781943], dtype=float32), 'probabilities': array([0.83218056, 0.16781943], dtype=float32), 'class_ids': array([0], dtype=int64), 'classes': array([b'0'], dtype=object)}\n",
      "{'logits': array([0.17151022], dtype=float32), 'logistic': array([0.5427727], dtype=float32), 'probabilities': array([0.4572272, 0.5427727], dtype=float32), 'class_ids': array([1], dtype=int64), 'classes': array([b'1'], dtype=object)}\n",
      "{'logits': array([0.22476053], dtype=float32), 'logistic': array([0.55595475], dtype=float32), 'probabilities': array([0.44404522, 0.55595475], dtype=float32), 'class_ids': array([1], dtype=int64), 'classes': array([b'1'], dtype=object)}\n",
      "{'logits': array([0.22161615], dtype=float32), 'logistic': array([0.5551784], dtype=float32), 'probabilities': array([0.44482163, 0.5551784 ], dtype=float32), 'class_ids': array([1], dtype=int64), 'classes': array([b'1'], dtype=object)}\n",
      "{'logits': array([-1.6219087], dtype=float32), 'logistic': array([0.16494182], dtype=float32), 'probabilities': array([0.8350582, 0.1649418], dtype=float32), 'class_ids': array([0], dtype=int64), 'classes': array([b'0'], dtype=object)}\n",
      "{'logits': array([-0.3006432], dtype=float32), 'logistic': array([0.42540026], dtype=float32), 'probabilities': array([0.57459974, 0.42540026], dtype=float32), 'class_ids': array([0], dtype=int64), 'classes': array([b'0'], dtype=object)}\n",
      "{'logits': array([-1.7285273], dtype=float32), 'logistic': array([0.15077606], dtype=float32), 'probabilities': array([0.849224  , 0.15077606], dtype=float32), 'class_ids': array([0], dtype=int64), 'classes': array([b'0'], dtype=object)}\n",
      "{'logits': array([0.80795336], dtype=float32), 'logistic': array([0.6916732], dtype=float32), 'probabilities': array([0.3083268, 0.6916732], dtype=float32), 'class_ids': array([1], dtype=int64), 'classes': array([b'1'], dtype=object)}\n",
      "{'logits': array([1.4195073], dtype=float32), 'logistic': array([0.80526114], dtype=float32), 'probabilities': array([0.19473884, 0.80526114], dtype=float32), 'class_ids': array([1], dtype=int64), 'classes': array([b'1'], dtype=object)}\n"
     ]
    },
    {
     "name": "stdout",
     "output_type": "stream",
     "text": [
      "{'logits': array([0.30610383], dtype=float32), 'logistic': array([0.575934], dtype=float32), 'probabilities': array([0.42406604, 0.575934  ], dtype=float32), 'class_ids': array([1], dtype=int64), 'classes': array([b'1'], dtype=object)}\n",
      "{'logits': array([-1.4810358], dtype=float32), 'logistic': array([0.18527101], dtype=float32), 'probabilities': array([0.81472903, 0.18527102], dtype=float32), 'class_ids': array([0], dtype=int64), 'classes': array([b'0'], dtype=object)}\n",
      "{'logits': array([-0.00108171], dtype=float32), 'logistic': array([0.49972954], dtype=float32), 'probabilities': array([0.5002704 , 0.49972957], dtype=float32), 'class_ids': array([0], dtype=int64), 'classes': array([b'0'], dtype=object)}\n",
      "{'logits': array([-0.56499755], dtype=float32), 'logistic': array([0.36239192], dtype=float32), 'probabilities': array([0.6376081 , 0.36239192], dtype=float32), 'class_ids': array([0], dtype=int64), 'classes': array([b'0'], dtype=object)}\n",
      "{'logits': array([-0.23244476], dtype=float32), 'logistic': array([0.44214907], dtype=float32), 'probabilities': array([0.55785096, 0.44214907], dtype=float32), 'class_ids': array([0], dtype=int64), 'classes': array([b'0'], dtype=object)}\n",
      "{'logits': array([-0.54605347], dtype=float32), 'logistic': array([0.36678052], dtype=float32), 'probabilities': array([0.6332195 , 0.36678052], dtype=float32), 'class_ids': array([0], dtype=int64), 'classes': array([b'0'], dtype=object)}\n",
      "{'logits': array([-0.30371082], dtype=float32), 'logistic': array([0.42465058], dtype=float32), 'probabilities': array([0.5753494, 0.4246506], dtype=float32), 'class_ids': array([0], dtype=int64), 'classes': array([b'0'], dtype=object)}\n",
      "{'logits': array([-1.6578157], dtype=float32), 'logistic': array([0.16005544], dtype=float32), 'probabilities': array([0.8399446 , 0.16005543], dtype=float32), 'class_ids': array([0], dtype=int64), 'classes': array([b'0'], dtype=object)}\n",
      "{'logits': array([0.1904571], dtype=float32), 'logistic': array([0.54747087], dtype=float32), 'probabilities': array([0.45252916, 0.54747087], dtype=float32), 'class_ids': array([1], dtype=int64), 'classes': array([b'1'], dtype=object)}\n",
      "{'logits': array([0.08300781], dtype=float32), 'logistic': array([0.5207401], dtype=float32), 'probabilities': array([0.47926  , 0.5207401], dtype=float32), 'class_ids': array([1], dtype=int64), 'classes': array([b'1'], dtype=object)}\n",
      "{'logits': array([-1.3421258], dtype=float32), 'logistic': array([0.2071607], dtype=float32), 'probabilities': array([0.79283935, 0.2071607 ], dtype=float32), 'class_ids': array([0], dtype=int64), 'classes': array([b'0'], dtype=object)}\n",
      "{'logits': array([-1.5441759], dtype=float32), 'logistic': array([0.17592904], dtype=float32), 'probabilities': array([0.82407093, 0.17592904], dtype=float32), 'class_ids': array([0], dtype=int64), 'classes': array([b'0'], dtype=object)}\n",
      "{'logits': array([-1.6230664], dtype=float32), 'logistic': array([0.1647824], dtype=float32), 'probabilities': array([0.8352176, 0.1647824], dtype=float32), 'class_ids': array([0], dtype=int64), 'classes': array([b'0'], dtype=object)}\n",
      "{'logits': array([-1.1895915], dtype=float32), 'logistic': array([0.233332], dtype=float32), 'probabilities': array([0.76666796, 0.23333198], dtype=float32), 'class_ids': array([0], dtype=int64), 'classes': array([b'0'], dtype=object)}\n",
      "{'logits': array([-0.4924209], dtype=float32), 'logistic': array([0.37932342], dtype=float32), 'probabilities': array([0.6206766 , 0.37932342], dtype=float32), 'class_ids': array([0], dtype=int64), 'classes': array([b'0'], dtype=object)}\n",
      "{'logits': array([-1.8047316], dtype=float32), 'logistic': array([0.14127608], dtype=float32), 'probabilities': array([0.85872394, 0.14127606], dtype=float32), 'class_ids': array([0], dtype=int64), 'classes': array([b'0'], dtype=object)}\n",
      "{'logits': array([-0.7658658], dtype=float32), 'logistic': array([0.31737408], dtype=float32), 'probabilities': array([0.6826259 , 0.31737408], dtype=float32), 'class_ids': array([0], dtype=int64), 'classes': array([b'0'], dtype=object)}\n",
      "{'logits': array([-1.1485376], dtype=float32), 'logistic': array([0.24075629], dtype=float32), 'probabilities': array([0.75924367, 0.24075627], dtype=float32), 'class_ids': array([0], dtype=int64), 'classes': array([b'0'], dtype=object)}\n",
      "{'logits': array([-2.2004335], dtype=float32), 'logistic': array([0.09971157], dtype=float32), 'probabilities': array([0.90028846, 0.09971157], dtype=float32), 'class_ids': array([0], dtype=int64), 'classes': array([b'0'], dtype=object)}\n",
      "{'logits': array([-1.884422], dtype=float32), 'logistic': array([0.13188179], dtype=float32), 'probabilities': array([0.8681182 , 0.13188179], dtype=float32), 'class_ids': array([0], dtype=int64), 'classes': array([b'0'], dtype=object)}\n",
      "{'logits': array([0.94671345], dtype=float32), 'logistic': array([0.72045374], dtype=float32), 'probabilities': array([0.27954626, 0.72045374], dtype=float32), 'class_ids': array([1], dtype=int64), 'classes': array([b'1'], dtype=object)}\n",
      "{'logits': array([-1.5890753], dtype=float32), 'logistic': array([0.16951403], dtype=float32), 'probabilities': array([0.830486  , 0.16951403], dtype=float32), 'class_ids': array([0], dtype=int64), 'classes': array([b'0'], dtype=object)}\n",
      "{'logits': array([-1.8193343], dtype=float32), 'logistic': array([0.13951378], dtype=float32), 'probabilities': array([0.8604862 , 0.13951378], dtype=float32), 'class_ids': array([0], dtype=int64), 'classes': array([b'0'], dtype=object)}\n",
      "{'logits': array([-1.701685], dtype=float32), 'logistic': array([0.15424533], dtype=float32), 'probabilities': array([0.84575474, 0.15424535], dtype=float32), 'class_ids': array([0], dtype=int64), 'classes': array([b'0'], dtype=object)}\n",
      "{'logits': array([0.02527642], dtype=float32), 'logistic': array([0.50631875], dtype=float32), 'probabilities': array([0.49368122, 0.50631875], dtype=float32), 'class_ids': array([1], dtype=int64), 'classes': array([b'1'], dtype=object)}\n",
      "{'logits': array([-0.20375705], dtype=float32), 'logistic': array([0.44923624], dtype=float32), 'probabilities': array([0.5507638 , 0.44923624], dtype=float32), 'class_ids': array([0], dtype=int64), 'classes': array([b'0'], dtype=object)}\n",
      "{'logits': array([-1.2096664], dtype=float32), 'logistic': array([0.2297601], dtype=float32), 'probabilities': array([0.7702399 , 0.22976008], dtype=float32), 'class_ids': array([0], dtype=int64), 'classes': array([b'0'], dtype=object)}\n",
      "{'logits': array([-0.35090613], dtype=float32), 'logistic': array([0.4131627], dtype=float32), 'probabilities': array([0.5868373 , 0.41316268], dtype=float32), 'class_ids': array([0], dtype=int64), 'classes': array([b'0'], dtype=object)}\n",
      "{'logits': array([-1.4442905], dtype=float32), 'logistic': array([0.1908818], dtype=float32), 'probabilities': array([0.8091182 , 0.19088182], dtype=float32), 'class_ids': array([0], dtype=int64), 'classes': array([b'0'], dtype=object)}\n",
      "{'logits': array([-1.3584752], dtype=float32), 'logistic': array([0.20448823], dtype=float32), 'probabilities': array([0.7955118 , 0.20448823], dtype=float32), 'class_ids': array([0], dtype=int64), 'classes': array([b'0'], dtype=object)}\n",
      "{'logits': array([-0.16835332], dtype=float32), 'logistic': array([0.4580108], dtype=float32), 'probabilities': array([0.5419892 , 0.45801082], dtype=float32), 'class_ids': array([0], dtype=int64), 'classes': array([b'0'], dtype=object)}\n",
      "{'logits': array([0.03715801], dtype=float32), 'logistic': array([0.50928843], dtype=float32), 'probabilities': array([0.49071157, 0.50928843], dtype=float32), 'class_ids': array([1], dtype=int64), 'classes': array([b'1'], dtype=object)}\n",
      "{'logits': array([-1.8309966], dtype=float32), 'logistic': array([0.1381196], dtype=float32), 'probabilities': array([0.8618804, 0.1381196], dtype=float32), 'class_ids': array([0], dtype=int64), 'classes': array([b'0'], dtype=object)}\n",
      "{'logits': array([-0.49156934], dtype=float32), 'logistic': array([0.37952396], dtype=float32), 'probabilities': array([0.62047607, 0.37952393], dtype=float32), 'class_ids': array([0], dtype=int64), 'classes': array([b'0'], dtype=object)}\n",
      "{'logits': array([0.69551384], dtype=float32), 'logistic': array([0.6671924], dtype=float32), 'probabilities': array([0.33280763, 0.6671924 ], dtype=float32), 'class_ids': array([1], dtype=int64), 'classes': array([b'1'], dtype=object)}\n",
      "{'logits': array([0.12518919], dtype=float32), 'logistic': array([0.5312565], dtype=float32), 'probabilities': array([0.4687435, 0.5312565], dtype=float32), 'class_ids': array([1], dtype=int64), 'classes': array([b'1'], dtype=object)}\n",
      "{'logits': array([-0.39566398], dtype=float32), 'logistic': array([0.40235454], dtype=float32), 'probabilities': array([0.5976454 , 0.40235457], dtype=float32), 'class_ids': array([0], dtype=int64), 'classes': array([b'0'], dtype=object)}\n",
      "{'logits': array([0.21977603], dtype=float32), 'logistic': array([0.5547239], dtype=float32), 'probabilities': array([0.44527608, 0.5547239 ], dtype=float32), 'class_ids': array([1], dtype=int64), 'classes': array([b'1'], dtype=object)}\n",
      "{'logits': array([-1.2049804], dtype=float32), 'logistic': array([0.23059042], dtype=float32), 'probabilities': array([0.7694096 , 0.23059042], dtype=float32), 'class_ids': array([0], dtype=int64), 'classes': array([b'0'], dtype=object)}\n",
      "{'logits': array([-1.458933], dtype=float32), 'logistic': array([0.18863058], dtype=float32), 'probabilities': array([0.8113694 , 0.18863058], dtype=float32), 'class_ids': array([0], dtype=int64), 'classes': array([b'0'], dtype=object)}\n",
      "{'logits': array([-1.8276705], dtype=float32), 'logistic': array([0.13851602], dtype=float32), 'probabilities': array([0.861484  , 0.13851602], dtype=float32), 'class_ids': array([0], dtype=int64), 'classes': array([b'0'], dtype=object)}\n",
      "{'logits': array([-1.0594115], dtype=float32), 'logistic': array([0.25742194], dtype=float32), 'probabilities': array([0.742578 , 0.2574219], dtype=float32), 'class_ids': array([0], dtype=int64), 'classes': array([b'0'], dtype=object)}\n",
      "{'logits': array([0.03094161], dtype=float32), 'logistic': array([0.5077348], dtype=float32), 'probabilities': array([0.49226522, 0.5077348 ], dtype=float32), 'class_ids': array([1], dtype=int64), 'classes': array([b'1'], dtype=object)}\n",
      "{'logits': array([0.71910286], dtype=float32), 'logistic': array([0.6724094], dtype=float32), 'probabilities': array([0.32759055, 0.6724094 ], dtype=float32), 'class_ids': array([1], dtype=int64), 'classes': array([b'1'], dtype=object)}\n",
      "{'logits': array([-1.224801], dtype=float32), 'logistic': array([0.22709267], dtype=float32), 'probabilities': array([0.7729073 , 0.22709267], dtype=float32), 'class_ids': array([0], dtype=int64), 'classes': array([b'0'], dtype=object)}\n",
      "{'logits': array([-1.6400149], dtype=float32), 'logistic': array([0.16246304], dtype=float32), 'probabilities': array([0.837537  , 0.16246304], dtype=float32), 'class_ids': array([0], dtype=int64), 'classes': array([b'0'], dtype=object)}\n",
      "{'logits': array([-0.42057264], dtype=float32), 'logistic': array([0.39637974], dtype=float32), 'probabilities': array([0.6036203 , 0.39637974], dtype=float32), 'class_ids': array([0], dtype=int64), 'classes': array([b'0'], dtype=object)}\n",
      "{'logits': array([-1.278315], dtype=float32), 'logistic': array([0.2178372], dtype=float32), 'probabilities': array([0.78216285, 0.2178372 ], dtype=float32), 'class_ids': array([0], dtype=int64), 'classes': array([b'0'], dtype=object)}\n",
      "{'logits': array([-1.7851896], dtype=float32), 'logistic': array([0.14366351], dtype=float32), 'probabilities': array([0.8563365, 0.1436635], dtype=float32), 'class_ids': array([0], dtype=int64), 'classes': array([b'0'], dtype=object)}\n",
      "{'logits': array([-1.6232871], dtype=float32), 'logistic': array([0.16475205], dtype=float32), 'probabilities': array([0.83524793, 0.16475204], dtype=float32), 'class_ids': array([0], dtype=int64), 'classes': array([b'0'], dtype=object)}\n",
      "{'logits': array([-1.8767226], dtype=float32), 'logistic': array([0.13276577], dtype=float32), 'probabilities': array([0.8672342 , 0.13276577], dtype=float32), 'class_ids': array([0], dtype=int64), 'classes': array([b'0'], dtype=object)}\n",
      "{'logits': array([-0.54138744], dtype=float32), 'logistic': array([0.36786488], dtype=float32), 'probabilities': array([0.6321351 , 0.36786488], dtype=float32), 'class_ids': array([0], dtype=int64), 'classes': array([b'0'], dtype=object)}\n",
      "{'logits': array([1.0453691], dtype=float32), 'logistic': array([0.7398847], dtype=float32), 'probabilities': array([0.26011536, 0.7398847 ], dtype=float32), 'class_ids': array([1], dtype=int64), 'classes': array([b'1'], dtype=object)}\n",
      "{'logits': array([1.0741303], dtype=float32), 'logistic': array([0.7453816], dtype=float32), 'probabilities': array([0.2546184, 0.7453816], dtype=float32), 'class_ids': array([1], dtype=int64), 'classes': array([b'1'], dtype=object)}\n",
      "{'logits': array([0.06801319], dtype=float32), 'logistic': array([0.51699674], dtype=float32), 'probabilities': array([0.48300326, 0.51699674], dtype=float32), 'class_ids': array([1], dtype=int64), 'classes': array([b'1'], dtype=object)}\n",
      "{'logits': array([0.04771495], dtype=float32), 'logistic': array([0.5119265], dtype=float32), 'probabilities': array([0.48807353, 0.5119265 ], dtype=float32), 'class_ids': array([1], dtype=int64), 'classes': array([b'1'], dtype=object)}\n",
      "{'logits': array([0.3011551], dtype=float32), 'logistic': array([0.57472485], dtype=float32), 'probabilities': array([0.42527512, 0.57472485], dtype=float32), 'class_ids': array([1], dtype=int64), 'classes': array([b'1'], dtype=object)}\n",
      "{'logits': array([-2.0510235], dtype=float32), 'logistic': array([0.113949], dtype=float32), 'probabilities': array([0.886051  , 0.11394901], dtype=float32), 'class_ids': array([0], dtype=int64), 'classes': array([b'0'], dtype=object)}\n",
      "{'logits': array([0.09493268], dtype=float32), 'logistic': array([0.5237154], dtype=float32), 'probabilities': array([0.47628465, 0.5237154 ], dtype=float32), 'class_ids': array([1], dtype=int64), 'classes': array([b'1'], dtype=object)}\n",
      "{'logits': array([1.0239403], dtype=float32), 'logistic': array([0.7357394], dtype=float32), 'probabilities': array([0.2642606, 0.7357394], dtype=float32), 'class_ids': array([1], dtype=int64), 'classes': array([b'1'], dtype=object)}\n",
      "{'logits': array([-0.30965054], dtype=float32), 'logistic': array([0.4232], dtype=float32), 'probabilities': array([0.5767999, 0.4232   ], dtype=float32), 'class_ids': array([0], dtype=int64), 'classes': array([b'0'], dtype=object)}\n",
      "{'logits': array([-1.0313327], dtype=float32), 'logistic': array([0.26282582], dtype=float32), 'probabilities': array([0.73717415, 0.26282582], dtype=float32), 'class_ids': array([0], dtype=int64), 'classes': array([b'0'], dtype=object)}\n",
      "{'logits': array([-0.66343534], dtype=float32), 'logistic': array([0.33996832], dtype=float32), 'probabilities': array([0.6600317 , 0.33996835], dtype=float32), 'class_ids': array([0], dtype=int64), 'classes': array([b'0'], dtype=object)}\n",
      "{'logits': array([0.16650057], dtype=float32), 'logistic': array([0.54152924], dtype=float32), 'probabilities': array([0.45847076, 0.54152924], dtype=float32), 'class_ids': array([1], dtype=int64), 'classes': array([b'1'], dtype=object)}\n",
      "{'logits': array([-1.257571], dtype=float32), 'logistic': array([0.22139232], dtype=float32), 'probabilities': array([0.7786077 , 0.22139233], dtype=float32), 'class_ids': array([0], dtype=int64), 'classes': array([b'0'], dtype=object)}\n",
      "{'logits': array([0.52029467], dtype=float32), 'logistic': array([0.6272167], dtype=float32), 'probabilities': array([0.37278336, 0.6272167 ], dtype=float32), 'class_ids': array([1], dtype=int64), 'classes': array([b'1'], dtype=object)}\n",
      "{'logits': array([-0.286551], dtype=float32), 'logistic': array([0.42884842], dtype=float32), 'probabilities': array([0.57115155, 0.42884845], dtype=float32), 'class_ids': array([0], dtype=int64), 'classes': array([b'0'], dtype=object)}\n",
      "{'logits': array([-0.27910066], dtype=float32), 'logistic': array([0.43067428], dtype=float32), 'probabilities': array([0.56932575, 0.43067428], dtype=float32), 'class_ids': array([0], dtype=int64), 'classes': array([b'0'], dtype=object)}\n",
      "{'logits': array([-1.7328078], dtype=float32), 'logistic': array([0.15022878], dtype=float32), 'probabilities': array([0.8497712, 0.1502288], dtype=float32), 'class_ids': array([0], dtype=int64), 'classes': array([b'0'], dtype=object)}\n",
      "{'logits': array([-1.4382908], dtype=float32), 'logistic': array([0.19181016], dtype=float32), 'probabilities': array([0.8081898 , 0.19181016], dtype=float32), 'class_ids': array([0], dtype=int64), 'classes': array([b'0'], dtype=object)}\n",
      "{'logits': array([-1.5005285], dtype=float32), 'logistic': array([0.18234673], dtype=float32), 'probabilities': array([0.8176533 , 0.18234672], dtype=float32), 'class_ids': array([0], dtype=int64), 'classes': array([b'0'], dtype=object)}\n",
      "{'logits': array([-0.24643111], dtype=float32), 'logistic': array([0.43870214], dtype=float32), 'probabilities': array([0.5612979 , 0.43870214], dtype=float32), 'class_ids': array([0], dtype=int64), 'classes': array([b'0'], dtype=object)}\n",
      "{'logits': array([-1.7459075], dtype=float32), 'logistic': array([0.14856413], dtype=float32), 'probabilities': array([0.8514359 , 0.14856413], dtype=float32), 'class_ids': array([0], dtype=int64), 'classes': array([b'0'], dtype=object)}\n",
      "{'logits': array([1.0143716], dtype=float32), 'logistic': array([0.7338748], dtype=float32), 'probabilities': array([0.26612517, 0.7338748 ], dtype=float32), 'class_ids': array([1], dtype=int64), 'classes': array([b'1'], dtype=object)}\n",
      "{'logits': array([-1.5202893], dtype=float32), 'logistic': array([0.17941892], dtype=float32), 'probabilities': array([0.820581 , 0.1794189], dtype=float32), 'class_ids': array([0], dtype=int64), 'classes': array([b'0'], dtype=object)}\n",
      "{'logits': array([-0.1506139], dtype=float32), 'logistic': array([0.46241757], dtype=float32), 'probabilities': array([0.53758246, 0.46241757], dtype=float32), 'class_ids': array([0], dtype=int64), 'classes': array([b'0'], dtype=object)}\n",
      "{'logits': array([-1.7030106], dtype=float32), 'logistic': array([0.15407248], dtype=float32), 'probabilities': array([0.84592754, 0.15407248], dtype=float32), 'class_ids': array([0], dtype=int64), 'classes': array([b'0'], dtype=object)}\n",
      "{'logits': array([0.65044737], dtype=float32), 'logistic': array([0.6571113], dtype=float32), 'probabilities': array([0.3428887, 0.6571113], dtype=float32), 'class_ids': array([1], dtype=int64), 'classes': array([b'1'], dtype=object)}\n",
      "{'logits': array([-0.81085086], dtype=float32), 'logistic': array([0.30770922], dtype=float32), 'probabilities': array([0.6922908 , 0.30770922], dtype=float32), 'class_ids': array([0], dtype=int64), 'classes': array([b'0'], dtype=object)}\n",
      "{'logits': array([-1.6114795], dtype=float32), 'logistic': array([0.1663833], dtype=float32), 'probabilities': array([0.8336167, 0.1663833], dtype=float32), 'class_ids': array([0], dtype=int64), 'classes': array([b'0'], dtype=object)}\n"
     ]
    },
    {
     "name": "stdout",
     "output_type": "stream",
     "text": [
      "{'logits': array([-0.6520162], dtype=float32), 'logistic': array([0.34253532], dtype=float32), 'probabilities': array([0.6574647 , 0.34253535], dtype=float32), 'class_ids': array([0], dtype=int64), 'classes': array([b'0'], dtype=object)}\n",
      "{'logits': array([-0.82091403], dtype=float32), 'logistic': array([0.30556968], dtype=float32), 'probabilities': array([0.69443035, 0.30556968], dtype=float32), 'class_ids': array([0], dtype=int64), 'classes': array([b'0'], dtype=object)}\n",
      "{'logits': array([-1.6829501], dtype=float32), 'logistic': array([0.15670522], dtype=float32), 'probabilities': array([0.84329474, 0.15670522], dtype=float32), 'class_ids': array([0], dtype=int64), 'classes': array([b'0'], dtype=object)}\n",
      "{'logits': array([0.7632971], dtype=float32), 'logistic': array([0.6820691], dtype=float32), 'probabilities': array([0.31793085, 0.6820691 ], dtype=float32), 'class_ids': array([1], dtype=int64), 'classes': array([b'1'], dtype=object)}\n",
      "{'logits': array([-1.5505002], dtype=float32), 'logistic': array([0.17501405], dtype=float32), 'probabilities': array([0.8249859 , 0.17501403], dtype=float32), 'class_ids': array([0], dtype=int64), 'classes': array([b'0'], dtype=object)}\n",
      "{'logits': array([-1.6596195], dtype=float32), 'logistic': array([0.15981309], dtype=float32), 'probabilities': array([0.84018695, 0.1598131 ], dtype=float32), 'class_ids': array([0], dtype=int64), 'classes': array([b'0'], dtype=object)}\n",
      "{'logits': array([-0.9387627], dtype=float32), 'logistic': array([0.2811503], dtype=float32), 'probabilities': array([0.7188497 , 0.28115034], dtype=float32), 'class_ids': array([0], dtype=int64), 'classes': array([b'0'], dtype=object)}\n",
      "{'logits': array([-0.12499237], dtype=float32), 'logistic': array([0.46879253], dtype=float32), 'probabilities': array([0.5312075 , 0.46879256], dtype=float32), 'class_ids': array([0], dtype=int64), 'classes': array([b'0'], dtype=object)}\n",
      "{'logits': array([-1.0129037], dtype=float32), 'logistic': array([0.266412], dtype=float32), 'probabilities': array([0.733588  , 0.26641196], dtype=float32), 'class_ids': array([0], dtype=int64), 'classes': array([b'0'], dtype=object)}\n",
      "{'logits': array([-1.9748996], dtype=float32), 'logistic': array([0.12186359], dtype=float32), 'probabilities': array([0.8781364, 0.1218636], dtype=float32), 'class_ids': array([0], dtype=int64), 'classes': array([b'0'], dtype=object)}\n",
      "{'logits': array([1.4030409], dtype=float32), 'logistic': array([0.802666], dtype=float32), 'probabilities': array([0.197334, 0.802666], dtype=float32), 'class_ids': array([1], dtype=int64), 'classes': array([b'1'], dtype=object)}\n",
      "{'logits': array([0.5599059], dtype=float32), 'logistic': array([0.63643074], dtype=float32), 'probabilities': array([0.36356923, 0.63643074], dtype=float32), 'class_ids': array([1], dtype=int64), 'classes': array([b'1'], dtype=object)}\n",
      "{'logits': array([0.0697248], dtype=float32), 'logistic': array([0.51742417], dtype=float32), 'probabilities': array([0.4825759 , 0.51742417], dtype=float32), 'class_ids': array([1], dtype=int64), 'classes': array([b'1'], dtype=object)}\n",
      "{'logits': array([0.9856441], dtype=float32), 'logistic': array([0.7282267], dtype=float32), 'probabilities': array([0.2717733, 0.7282267], dtype=float32), 'class_ids': array([1], dtype=int64), 'classes': array([b'1'], dtype=object)}\n",
      "{'logits': array([-1.7748841], dtype=float32), 'logistic': array([0.144936], dtype=float32), 'probabilities': array([0.85506403, 0.144936  ], dtype=float32), 'class_ids': array([0], dtype=int64), 'classes': array([b'0'], dtype=object)}\n",
      "{'logits': array([-1.8241124], dtype=float32), 'logistic': array([0.13894115], dtype=float32), 'probabilities': array([0.8610589 , 0.13894115], dtype=float32), 'class_ids': array([0], dtype=int64), 'classes': array([b'0'], dtype=object)}\n",
      "{'logits': array([-1.29799], dtype=float32), 'logistic': array([0.2145035], dtype=float32), 'probabilities': array([0.78549653, 0.2145035 ], dtype=float32), 'class_ids': array([0], dtype=int64), 'classes': array([b'0'], dtype=object)}\n",
      "{'logits': array([-0.86842996], dtype=float32), 'logistic': array([0.2955811], dtype=float32), 'probabilities': array([0.7044189, 0.2955811], dtype=float32), 'class_ids': array([0], dtype=int64), 'classes': array([b'0'], dtype=object)}\n",
      "{'logits': array([-0.68770534], dtype=float32), 'logistic': array([0.33454373], dtype=float32), 'probabilities': array([0.6654563 , 0.33454373], dtype=float32), 'class_ids': array([0], dtype=int64), 'classes': array([b'0'], dtype=object)}\n",
      "{'logits': array([0.21620977], dtype=float32), 'logistic': array([0.55384284], dtype=float32), 'probabilities': array([0.44615713, 0.55384284], dtype=float32), 'class_ids': array([1], dtype=int64), 'classes': array([b'1'], dtype=object)}\n",
      "{'logits': array([0.24075651], dtype=float32), 'logistic': array([0.5599001], dtype=float32), 'probabilities': array([0.44009995, 0.5599001 ], dtype=float32), 'class_ids': array([1], dtype=int64), 'classes': array([b'1'], dtype=object)}\n",
      "{'logits': array([-0.38595176], dtype=float32), 'logistic': array([0.4046922], dtype=float32), 'probabilities': array([0.59530777, 0.4046922 ], dtype=float32), 'class_ids': array([0], dtype=int64), 'classes': array([b'0'], dtype=object)}\n",
      "{'logits': array([-0.5166596], dtype=float32), 'logistic': array([0.37363368], dtype=float32), 'probabilities': array([0.6263663 , 0.37363365], dtype=float32), 'class_ids': array([0], dtype=int64), 'classes': array([b'0'], dtype=object)}\n",
      "{'logits': array([-0.73077834], dtype=float32), 'logistic': array([0.32502395], dtype=float32), 'probabilities': array([0.67497605, 0.32502395], dtype=float32), 'class_ids': array([0], dtype=int64), 'classes': array([b'0'], dtype=object)}\n",
      "{'logits': array([-1.6166615], dtype=float32), 'logistic': array([0.16566579], dtype=float32), 'probabilities': array([0.8343342 , 0.16566579], dtype=float32), 'class_ids': array([0], dtype=int64), 'classes': array([b'0'], dtype=object)}\n",
      "{'logits': array([0.5185236], dtype=float32), 'logistic': array([0.6268025], dtype=float32), 'probabilities': array([0.37319756, 0.6268025 ], dtype=float32), 'class_ids': array([1], dtype=int64), 'classes': array([b'1'], dtype=object)}\n",
      "{'logits': array([-1.8499836], dtype=float32), 'logistic': array([0.13587482], dtype=float32), 'probabilities': array([0.86412513, 0.13587482], dtype=float32), 'class_ids': array([0], dtype=int64), 'classes': array([b'0'], dtype=object)}\n",
      "{'logits': array([-1.0893362], dtype=float32), 'logistic': array([0.25174332], dtype=float32), 'probabilities': array([0.74825674, 0.25174332], dtype=float32), 'class_ids': array([0], dtype=int64), 'classes': array([b'0'], dtype=object)}\n",
      "{'logits': array([0.24043715], dtype=float32), 'logistic': array([0.55982137], dtype=float32), 'probabilities': array([0.44017863, 0.55982137], dtype=float32), 'class_ids': array([1], dtype=int64), 'classes': array([b'1'], dtype=object)}\n",
      "{'logits': array([-0.67998374], dtype=float32), 'logistic': array([0.33626494], dtype=float32), 'probabilities': array([0.6637351 , 0.33626494], dtype=float32), 'class_ids': array([0], dtype=int64), 'classes': array([b'0'], dtype=object)}\n",
      "{'logits': array([-1.5679364], dtype=float32), 'logistic': array([0.17251077], dtype=float32), 'probabilities': array([0.8274892 , 0.17251077], dtype=float32), 'class_ids': array([0], dtype=int64), 'classes': array([b'0'], dtype=object)}\n",
      "{'logits': array([-0.9530418], dtype=float32), 'logistic': array([0.2782735], dtype=float32), 'probabilities': array([0.7217265, 0.2782735], dtype=float32), 'class_ids': array([0], dtype=int64), 'classes': array([b'0'], dtype=object)}\n",
      "{'logits': array([-1.2210141], dtype=float32), 'logistic': array([0.22775804], dtype=float32), 'probabilities': array([0.77224195, 0.22775802], dtype=float32), 'class_ids': array([0], dtype=int64), 'classes': array([b'0'], dtype=object)}\n",
      "{'logits': array([-1.8565058], dtype=float32), 'logistic': array([0.13511086], dtype=float32), 'probabilities': array([0.86488914, 0.13511086], dtype=float32), 'class_ids': array([0], dtype=int64), 'classes': array([b'0'], dtype=object)}\n",
      "{'logits': array([-1.2714151], dtype=float32), 'logistic': array([0.2190151], dtype=float32), 'probabilities': array([0.7809849 , 0.21901509], dtype=float32), 'class_ids': array([0], dtype=int64), 'classes': array([b'0'], dtype=object)}\n",
      "{'logits': array([0.16946387], dtype=float32), 'logistic': array([0.5422649], dtype=float32), 'probabilities': array([0.45773515, 0.5422649 ], dtype=float32), 'class_ids': array([1], dtype=int64), 'classes': array([b'1'], dtype=object)}\n",
      "{'logits': array([0.6814271], dtype=float32), 'logistic': array([0.6640572], dtype=float32), 'probabilities': array([0.33594286, 0.6640572 ], dtype=float32), 'class_ids': array([1], dtype=int64), 'classes': array([b'1'], dtype=object)}\n",
      "{'logits': array([0.4948324], dtype=float32), 'logistic': array([0.6212442], dtype=float32), 'probabilities': array([0.37875587, 0.6212442 ], dtype=float32), 'class_ids': array([1], dtype=int64), 'classes': array([b'1'], dtype=object)}\n",
      "{'logits': array([0.78078604], dtype=float32), 'logistic': array([0.6858495], dtype=float32), 'probabilities': array([0.3141505, 0.6858495], dtype=float32), 'class_ids': array([1], dtype=int64), 'classes': array([b'1'], dtype=object)}\n",
      "{'logits': array([-0.35749245], dtype=float32), 'logistic': array([0.4115667], dtype=float32), 'probabilities': array([0.5884333 , 0.41156673], dtype=float32), 'class_ids': array([0], dtype=int64), 'classes': array([b'0'], dtype=object)}\n",
      "{'logits': array([-0.78048885], dtype=float32), 'logistic': array([0.31421453], dtype=float32), 'probabilities': array([0.6857855 , 0.31421456], dtype=float32), 'class_ids': array([0], dtype=int64), 'classes': array([b'0'], dtype=object)}\n",
      "{'logits': array([0.02885473], dtype=float32), 'logistic': array([0.5072132], dtype=float32), 'probabilities': array([0.49278682, 0.5072132 ], dtype=float32), 'class_ids': array([1], dtype=int64), 'classes': array([b'1'], dtype=object)}\n",
      "{'logits': array([-1.4091294], dtype=float32), 'logistic': array([0.1963714], dtype=float32), 'probabilities': array([0.8036286 , 0.19637142], dtype=float32), 'class_ids': array([0], dtype=int64), 'classes': array([b'0'], dtype=object)}\n",
      "{'logits': array([-1.6352283], dtype=float32), 'logistic': array([0.1631154], dtype=float32), 'probabilities': array([0.83688456, 0.1631154 ], dtype=float32), 'class_ids': array([0], dtype=int64), 'classes': array([b'0'], dtype=object)}\n",
      "{'logits': array([-1.4960966], dtype=float32), 'logistic': array([0.18300842], dtype=float32), 'probabilities': array([0.81699157, 0.18300842], dtype=float32), 'class_ids': array([0], dtype=int64), 'classes': array([b'0'], dtype=object)}\n",
      "{'logits': array([-0.05888522], dtype=float32), 'logistic': array([0.48528296], dtype=float32), 'probabilities': array([0.51471704, 0.48528296], dtype=float32), 'class_ids': array([0], dtype=int64), 'classes': array([b'0'], dtype=object)}\n",
      "{'logits': array([-2.7522821], dtype=float32), 'logistic': array([0.05995789], dtype=float32), 'probabilities': array([0.94004214, 0.05995789], dtype=float32), 'class_ids': array([0], dtype=int64), 'classes': array([b'0'], dtype=object)}\n",
      "{'logits': array([-1.0531878], dtype=float32), 'logistic': array([0.2586134], dtype=float32), 'probabilities': array([0.74138653, 0.25861338], dtype=float32), 'class_ids': array([0], dtype=int64), 'classes': array([b'0'], dtype=object)}\n",
      "{'logits': array([-1.697135], dtype=float32), 'logistic': array([0.15483983], dtype=float32), 'probabilities': array([0.8451602 , 0.15483981], dtype=float32), 'class_ids': array([0], dtype=int64), 'classes': array([b'0'], dtype=object)}\n",
      "{'logits': array([-1.0574635], dtype=float32), 'logistic': array([0.25779447], dtype=float32), 'probabilities': array([0.7422055 , 0.25779447], dtype=float32), 'class_ids': array([0], dtype=int64), 'classes': array([b'0'], dtype=object)}\n",
      "{'logits': array([-1.0838262], dtype=float32), 'logistic': array([0.25278264], dtype=float32), 'probabilities': array([0.74721736, 0.2527826 ], dtype=float32), 'class_ids': array([0], dtype=int64), 'classes': array([b'0'], dtype=object)}\n",
      "{'logits': array([-1.0022517], dtype=float32), 'logistic': array([0.26849893], dtype=float32), 'probabilities': array([0.73150104, 0.26849893], dtype=float32), 'class_ids': array([0], dtype=int64), 'classes': array([b'0'], dtype=object)}\n",
      "{'logits': array([1.1380575], dtype=float32), 'logistic': array([0.7573228], dtype=float32), 'probabilities': array([0.24267718, 0.7573228 ], dtype=float32), 'class_ids': array([1], dtype=int64), 'classes': array([b'1'], dtype=object)}\n",
      "{'logits': array([-1.5177338], dtype=float32), 'logistic': array([0.17979547], dtype=float32), 'probabilities': array([0.8202045 , 0.17979546], dtype=float32), 'class_ids': array([0], dtype=int64), 'classes': array([b'0'], dtype=object)}\n",
      "{'logits': array([-1.8947215], dtype=float32), 'logistic': array([0.13070707], dtype=float32), 'probabilities': array([0.8692929 , 0.13070706], dtype=float32), 'class_ids': array([0], dtype=int64), 'classes': array([b'0'], dtype=object)}\n",
      "{'logits': array([0.33240032], dtype=float32), 'logistic': array([0.5823433], dtype=float32), 'probabilities': array([0.4176567, 0.5823433], dtype=float32), 'class_ids': array([1], dtype=int64), 'classes': array([b'1'], dtype=object)}\n",
      "{'logits': array([-0.18349934], dtype=float32), 'logistic': array([0.45425346], dtype=float32), 'probabilities': array([0.54574656, 0.45425346], dtype=float32), 'class_ids': array([0], dtype=int64), 'classes': array([b'0'], dtype=object)}\n",
      "{'logits': array([1.6455622], dtype=float32), 'logistic': array([0.83829033], dtype=float32), 'probabilities': array([0.16170964, 0.83829033], dtype=float32), 'class_ids': array([1], dtype=int64), 'classes': array([b'1'], dtype=object)}\n",
      "{'logits': array([0.40287912], dtype=float32), 'logistic': array([0.5993792], dtype=float32), 'probabilities': array([0.4006208, 0.5993792], dtype=float32), 'class_ids': array([1], dtype=int64), 'classes': array([b'1'], dtype=object)}\n",
      "{'logits': array([-1.8815339], dtype=float32), 'logistic': array([0.13221279], dtype=float32), 'probabilities': array([0.8677872 , 0.13221279], dtype=float32), 'class_ids': array([0], dtype=int64), 'classes': array([b'0'], dtype=object)}\n",
      "{'logits': array([0.3326702], dtype=float32), 'logistic': array([0.5824089], dtype=float32), 'probabilities': array([0.41759104, 0.5824089 ], dtype=float32), 'class_ids': array([1], dtype=int64), 'classes': array([b'1'], dtype=object)}\n"
     ]
    }
   ],
   "source": [
    "for item in my_pred:\n",
    "    print(item)\n"
   ]
  },
  {
   "cell_type": "markdown",
   "metadata": {},
   "source": [
    "### Doing a Dense NN Classifier"
   ]
  },
  {
   "cell_type": "code",
   "execution_count": 34,
   "metadata": {},
   "outputs": [
    {
     "name": "stdout",
     "output_type": "stream",
     "text": [
      "INFO:tensorflow:Using default config.\n",
      "WARNING:tensorflow:Using temporary folder as model directory: C:\\Users\\jaish\\AppData\\Local\\Temp\\tmp68uvhziy\n",
      "INFO:tensorflow:Using config: {'_model_dir': 'C:\\\\Users\\\\jaish\\\\AppData\\\\Local\\\\Temp\\\\tmp68uvhziy', '_tf_random_seed': None, '_save_summary_steps': 100, '_save_checkpoints_steps': None, '_save_checkpoints_secs': 600, '_session_config': allow_soft_placement: true\n",
      "graph_options {\n",
      "  rewrite_options {\n",
      "    meta_optimizer_iterations: ONE\n",
      "  }\n",
      "}\n",
      ", '_keep_checkpoint_max': 5, '_keep_checkpoint_every_n_hours': 10000, '_log_step_count_steps': 100, '_train_distribute': None, '_device_fn': None, '_protocol': None, '_eval_distribute': None, '_experimental_distribute': None, '_service': None, '_cluster_spec': <tensorflow.python.training.server_lib.ClusterSpec object at 0x000002C7E95BA710>, '_task_type': 'worker', '_task_id': 0, '_global_id_in_cluster': 0, '_master': '', '_evaluation_master': '', '_is_chief': True, '_num_ps_replicas': 0, '_num_worker_replicas': 1}\n"
     ]
    }
   ],
   "source": [
    "# hidden units provide how many layers you want and how many neurons are there per layer\n",
    "dnn_model = tf.estimator.DNNClassifier(hidden_units=[10,10,10],feature_columns=feat_cols,n_classes=2)"
   ]
  },
  {
   "cell_type": "code",
   "execution_count": 35,
   "metadata": {},
   "outputs": [
    {
     "name": "stdout",
     "output_type": "stream",
     "text": [
      "INFO:tensorflow:Calling model_fn.\n",
      "INFO:tensorflow:Done calling model_fn.\n",
      "INFO:tensorflow:Create CheckpointSaverHook.\n",
      "INFO:tensorflow:Graph was finalized.\n",
      "INFO:tensorflow:Running local_init_op.\n",
      "INFO:tensorflow:Done running local_init_op.\n",
      "INFO:tensorflow:Saving checkpoints for 0 into C:\\Users\\jaish\\AppData\\Local\\Temp\\tmp68uvhziy\\model.ckpt.\n",
      "INFO:tensorflow:loss = 6.916046, step = 1\n",
      "INFO:tensorflow:global_step/sec: 397.876\n",
      "INFO:tensorflow:loss = 4.23128, step = 101 (0.256 sec)\n",
      "INFO:tensorflow:global_step/sec: 634.421\n",
      "INFO:tensorflow:loss = 6.945817, step = 201 (0.155 sec)\n",
      "INFO:tensorflow:global_step/sec: 711.122\n",
      "INFO:tensorflow:loss = 6.7214794, step = 301 (0.140 sec)\n",
      "INFO:tensorflow:global_step/sec: 668.45\n",
      "INFO:tensorflow:loss = 4.3702536, step = 401 (0.152 sec)\n",
      "INFO:tensorflow:global_step/sec: 701.185\n",
      "INFO:tensorflow:loss = 4.2222295, step = 501 (0.143 sec)\n",
      "INFO:tensorflow:global_step/sec: 726.557\n",
      "INFO:tensorflow:loss = 3.3079891, step = 601 (0.137 sec)\n",
      "INFO:tensorflow:global_step/sec: 541.868\n",
      "INFO:tensorflow:loss = 4.6345797, step = 701 (0.186 sec)\n",
      "INFO:tensorflow:global_step/sec: 550.026\n",
      "INFO:tensorflow:loss = 6.816407, step = 801 (0.182 sec)\n",
      "INFO:tensorflow:global_step/sec: 700.942\n",
      "INFO:tensorflow:loss = 4.0907383, step = 901 (0.142 sec)\n",
      "INFO:tensorflow:Saving checkpoints for 1000 into C:\\Users\\jaish\\AppData\\Local\\Temp\\tmp68uvhziy\\model.ckpt.\n",
      "INFO:tensorflow:Loss for final step: 3.943075.\n"
     ]
    },
    {
     "data": {
      "text/plain": [
       "<tensorflow.python.estimator.canned.dnn.DNNClassifier at 0x2c7e95bacc0>"
      ]
     },
     "execution_count": 35,
     "metadata": {},
     "output_type": "execute_result"
    }
   ],
   "source": [
    "dnn_model.train(input_fn = input_func,steps=1000)"
   ]
  },
  {
   "cell_type": "code",
   "execution_count": 36,
   "metadata": {},
   "outputs": [],
   "source": [
    "eval_input_func = tf.estimator.inputs.pandas_input_fn(x=X_test,y=y_test,batch_size=10,num_epochs=1,shuffle=False)"
   ]
  },
  {
   "cell_type": "code",
   "execution_count": 37,
   "metadata": {},
   "outputs": [
    {
     "name": "stdout",
     "output_type": "stream",
     "text": [
      "INFO:tensorflow:Calling model_fn.\n",
      "WARNING:tensorflow:Trapezoidal rule is known to produce incorrect PR-AUCs; please switch to \"careful_interpolation\" instead.\n",
      "WARNING:tensorflow:Trapezoidal rule is known to produce incorrect PR-AUCs; please switch to \"careful_interpolation\" instead.\n",
      "INFO:tensorflow:Done calling model_fn.\n",
      "INFO:tensorflow:Starting evaluation at 2018-11-03-12:04:39\n",
      "INFO:tensorflow:Graph was finalized.\n",
      "INFO:tensorflow:Restoring parameters from C:\\Users\\jaish\\AppData\\Local\\Temp\\tmp68uvhziy\\model.ckpt-1000\n",
      "INFO:tensorflow:Running local_init_op.\n",
      "INFO:tensorflow:Done running local_init_op.\n",
      "INFO:tensorflow:Finished evaluation at 2018-11-03-12:04:40\n",
      "INFO:tensorflow:Saving dict for global step 1000: accuracy = 0.7532467, accuracy_baseline = 0.64935064, auc = 0.8403704, auc_precision_recall = 0.7154571, average_loss = 0.47384372, global_step = 1000, label/mean = 0.35064936, loss = 4.5607457, precision = 0.6304348, prediction/mean = 0.38955203, recall = 0.7160494\n",
      "INFO:tensorflow:Saving 'checkpoint_path' summary for global step 1000: C:\\Users\\jaish\\AppData\\Local\\Temp\\tmp68uvhziy\\model.ckpt-1000\n"
     ]
    },
    {
     "data": {
      "text/plain": [
       "{'accuracy': 0.7532467,\n",
       " 'accuracy_baseline': 0.64935064,\n",
       " 'auc': 0.8403704,\n",
       " 'auc_precision_recall': 0.7154571,\n",
       " 'average_loss': 0.47384372,\n",
       " 'label/mean': 0.35064936,\n",
       " 'loss': 4.5607457,\n",
       " 'precision': 0.6304348,\n",
       " 'prediction/mean': 0.38955203,\n",
       " 'recall': 0.7160494,\n",
       " 'global_step': 1000}"
      ]
     },
     "execution_count": 37,
     "metadata": {},
     "output_type": "execute_result"
    }
   ],
   "source": [
    "dnn_model.evaluate(eval_input_func)"
   ]
  },
  {
   "cell_type": "code",
   "execution_count": null,
   "metadata": {},
   "outputs": [],
   "source": []
  }
 ],
 "metadata": {
  "kernelspec": {
   "display_name": "Python 3",
   "language": "python",
   "name": "python3"
  },
  "language_info": {
   "codemirror_mode": {
    "name": "ipython",
    "version": 3
   },
   "file_extension": ".py",
   "mimetype": "text/x-python",
   "name": "python",
   "nbconvert_exporter": "python",
   "pygments_lexer": "ipython3",
   "version": "3.6.7"
  }
 },
 "nbformat": 4,
 "nbformat_minor": 2
}
